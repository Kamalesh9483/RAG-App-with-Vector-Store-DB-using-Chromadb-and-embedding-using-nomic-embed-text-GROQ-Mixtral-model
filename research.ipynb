{
 "cells": [
  {
   "cell_type": "code",
   "execution_count": 1,
   "metadata": {},
   "outputs": [
    {
     "name": "stderr",
     "output_type": "stream",
     "text": [
      "c:\\RetrievalAugumentedGeneration_DB_website\\venv\\Lib\\site-packages\\tqdm\\auto.py:21: TqdmWarning: IProgress not found. Please update jupyter and ipywidgets. See https://ipywidgets.readthedocs.io/en/stable/user_install.html\n",
      "  from .autonotebook import tqdm as notebook_tqdm\n"
     ]
    }
   ],
   "source": [
    "from langchain_community.document_loaders import WebBaseLoader, TextLoader\n",
    "from langchain_community.embeddings import OllamaEmbeddings\n",
    "from dotenv import load_dotenv\n",
    "from langchain_community.vectorstores import Chroma\n",
    "from langchain_groq import ChatGroq\n",
    "from langchain.text_splitter import CharacterTextSplitter, RecursiveCharacterTextSplitter\n",
    "from langchain.chains import ConversationalRetrievalChain\n",
    "from langchain.memory import ChatMessageHistory, ConversationBufferMemory\n",
    "from langchain.chains.combine_documents import create_stuff_documents_chain\n",
    "from langchain_core.prompts import ChatPromptTemplate\n",
    "from langchain.chains import create_retrieval_chain\n",
    "import gradio as gr\n",
    "from langchain_groq import ChatGroq\n",
    "import streamlit as st\n",
    "import os\n",
    "from groq import Groq\n",
    "import bs4"
   ]
  },
  {
   "cell_type": "code",
   "execution_count": 22,
   "metadata": {},
   "outputs": [],
   "source": [
    "load_dotenv() \n",
    "\n",
    "# os.environ['GROQ_API_KEY']=os.getenv('GROQ_API_KEY')\n",
    "groq_api_key = os.environ['GROQ_API_KEY']\n"
   ]
  },
  {
   "cell_type": "code",
   "execution_count": 2,
   "metadata": {},
   "outputs": [
    {
     "name": "stderr",
     "output_type": "stream",
     "text": [
      "2024-04-07 21:29:48.448 \n",
      "  \u001b[33m\u001b[1mWarning:\u001b[0m to view this Streamlit app on a browser, run it with the following\n",
      "  command:\n",
      "\n",
      "    streamlit run c:\\RetrievalAugumentedGeneration_DB_website\\venv\\Lib\\site-packages\\ipykernel_launcher.py [ARGUMENTS]\n"
     ]
    },
    {
     "data": {
      "text/plain": [
       "['']"
      ]
     },
     "execution_count": 2,
     "metadata": {},
     "output_type": "execute_result"
    }
   ],
   "source": [
    "userInput=st.text_input(\"Enter website links\")\n",
    "[userInput]"
   ]
  },
  {
   "cell_type": "code",
   "execution_count": 3,
   "metadata": {},
   "outputs": [],
   "source": [
    "urls=[\n",
    "    \"https://kamalesh.net/\",\n",
    "    \"https://www.flipkart.com/motorola-edge-50-pro-5g-125w-charger-luxe-lavender-256-gb/p/itm3281f9ac32d1a?pid=MOBGXFXY2SBHGSVN&lid=LSTMOBGXFXY2SBHGSVNUNNNTJ&marketplace=FLIPKART&q=moto+edge+50+pro&store=tyy%2F4io&srno=s_1_1&otracker=AS_QueryStore_OrganicAutoSuggest_2_9_na_na_na&otracker1=AS_QueryStore_OrganicAutoSuggest_2_9_na_na_na&fm=organic&iid=f70e0ce2-f55d-4e98-b74b-96514017f77a.MOBGXFXY2SBHGSVN.SEARCH&ppt=hp&ppn=homepage&ssid=jst76zkm7k0000001712501090760&qH=22f8a288f3cd4f21\"\n",
    "    \n",
    "]\n",
    "\n",
    "text_documents=[WebBaseLoader(url).load() for url in urls]\n"
   ]
  },
  {
   "cell_type": "code",
   "execution_count": 4,
   "metadata": {},
   "outputs": [
    {
     "data": {
      "text/plain": [
       "[[Document(page_content=\"\\n\\n\\n\\n\\nKamalesh\\n\\n\\n\\n\\n\\n\\n\\n\\n\\nHome\\n\\n\\n\\nSkills\\n\\nEmbedded Sytems\\nBusiness Analytics\\nProduct Design & SQA\\nProgramming\\n\\n\\n\\nLinks\\n\\n\\n\\n\\n\\nHello, I'm Kamalesh\\nMultidisciplinary Engineer with good exposure to Embedded systems, Programming, Mechanical and Business Analytics. \\n\\nAbout Me\\n\\n\\n\\n\\n\\n\\nAbout Me\\n\\n\\n\\n\\n\\n\\nI am a passion driven, result oriented Multidisciplinary Engineer with high proficiency in\\r\\n        Mechanical, Electrical and Computer Science Engineering.\\nI set goals for myself and strive to achieve it through consistent learning and improvement cycle.\\r\\n        Started my career as a Mechanical Engineer, developed Product Design and People management skillsets.\\r\\n         Continued to develop my skills on Embedded systems, Mechatronics System integration, Programming and Business Analytics.\\r\\n        \\n\\n\\n\\n\\n\\n\\n\\nEmbedded System\\n\\n\\n\\n\\nAdequate first-hand experience on using multitude of Microcontrollers.\\nWorked with 8051, STM32, ESP32 micrcontrollers and their on-board peripherals\\nConcrete knowledge on GPIOs, PWM, Timers/Counters, ADC and communication protocols like SPI, I2C and UART\\nBasic understanding on OSI Model\\nOperative knowledge on using sensors like Accelerometer, Temperature sensor, Joystick and modules like WiFi and Bluetooth\\nProficiency in C language, have knowledge in using GCC and Makefiles to automate the build process\\nPossess high level understanding on Embedded machine learning\\n\\n\\n\\n\\n\\n\\n\\n\\nBusiness Analytics\\n\\n\\n\\n\\nPursuing Post Graduate Certificate in Business Analytics (PGCBA)\\r\\n                  from XLRI through virtual classroom training by Talentedge\\nExposure to Descriptive Statistics\\nAdept at Data Visualization tools like Tableau, PowerBI\\n\\n\\n\\n\\n\\n\\n\\n\\nProduct Design & SQA\\n\\n\\n\\n\\nHave taken the role of a R&D and SQA Engineer in an Tractor Manufacturing concern for a period of 2 years \\nPossess great command over Machine Design and Strength of Machines\\nContributed towards entire Design and Development process\\nSolved 5 major Design issues in the existing model\\nPossess knowledge relating to Quality and Supplier Quality Assurance\\nSecured 1st Prize team position in Engineering Design category at BAJA SAEINDIA 2017 at Natrax, Pithampur\\nCompleted In-Plant training at PSG INDUSTRIAL INSTITUTE for period of 2012-2017\\nProficient knowledge on using softwares like Creo, Solidworks, ANSYS and Matlab/Simulink\\n\\n\\n\\n\\n\\n\\n\\n\\nProgramming\\n\\n\\n\\n\\nAdept at programming C \\nHave exposure to Image Processing and have used libraries like OpenCV, MediaPipe, NumPy in Python\\nApplied knowledge of Data Analytics using lanuages like R and Python and used libraries like pandas, seaborn, matplotlib, plotly for Data Visualization\\nBroad level exposure to HTML, CSS and JavaScript\\nPossess hands-on exposure in using Version control using Git\\n\\n\\n\\n\\n\\n\\n\\n\\n\\nLinks\\n\\n\\n\\n\\n\\nLinkedIn\\n\\n\\n\\n\\n\\nGitHub\\n\\n\\n\\n\\n\\n\\nTableau\\n\\n\\n\\n\\n\\nR\\n\\n\\n\\n\\n\\nGitLab\\n\\n\\n\\n\\n\\n\\n\\n\\n\", metadata={'source': 'https://kamalesh.net/', 'title': 'Kamalesh', 'language': 'en'})],\n",
       " [Document(page_content='  MOTOROLA Edge 50 Pro 5G ( 256 GB Storage, 12 GB RAM ) Online at Best Price On Flipkart.com       Explore PlusLoginBecome a Seller More CartBig Bachat Days Ends in03 hrs : 44 mins : 10 secsHomeMobiles & AccessoriesMobilesMOTOROLA MobilesMotorola Edge 50 Pro 5G with 125W Charger (Luxe Lavender, 256 GB) (12 GB RAM)\\nCompareShareMotorola Edge 50 Pro 5G with 125W Charger (Luxe Lavender, 256 GB)\\xa0\\xa0(12 GB RAM)#JustHereBe the first to Review this productExtra ₹6000 off₹35,999₹41,99914% offiComing SoonAvailable offersBank Offer5% Cashback on Flipkart Axis Bank CardT&CBank OfferGet ₹25* instant discount for the 1st Flipkart Order using Flipkart UPIT&CBank Offer₹2000 Off On HDFC Bank Credit Card Non EMI Transactions.T&CSpecial PriceGet extra ₹6000 off (price inclusive of cashback/coupon)T&CView 6 more offers1 Year on Handset and 6 Months on AccessoriesKnow MoreColorBlack BeautyLuxe LavenderMoonlight PearlPlease select a Color to proceed✕RAM8 GB8 GB12 GB12 GBPlease select a RAM to proceed✕Highlights12 GB RAM | 256 GB ROM17.02 cm (6.7 inch) Display50MP + 13MP + 10MP | 50MP Front Camera4500 mAh Battery7 Gen 3 Mobile Platform ProcessorEasy Payment OptionsNo cost EMI starting from ₹4,000/monthNet banking & Credit/ Debit/ ATM cardView DetailsRead all detailsSellerTruenet Commerce47 Days Service Center Replacement/Repair?GST invoice available?See other sellersProtect your productDigital Suraksha for Rs 50,000 by Bajaj AllianzGet your financial losses covered for online transaction frauds on all bank accounts, credit/ debit cards, mobile wallets. Covers scam calls, OTP SMS frauds, UPI, netbanking, Cyber Attacks, Sim-swapping, Phishing, Spoofing, and more.Know MoreEnjoy peace of mind against all kinds of Cyber Fraud!₹183DescriptionMotorola Edge 50 Pro has an amalgamation of great designs and amazing features. It embodies a silicone vegan leather finish with a metal frame for a premium feel. Its 17.22 cm (6.7) curved display is Pantone validated for true colours. This 1.5K super HD display, supports HDR10+ and has a refresh rate of 144 Hz to give clear visual effects all the time. Capture beautiful photos with this 50 MP AI-powered camera with OIS that comes with Pantone-validated colours and a f/1.4 wide aperture making it good in low-light conditions. For shake-free videos, AI video stabilization comes in handy, while the AI phone enhancement engine improves image quality. There is also 13 MP ultrawide + macro camera, 10 MP telephoto camers with 30X hybrid zoom and OIS. Selfie camera is 50 MP Auto focus. With IP68 waterproofing, 125 W TurboPower charging, and Hello UI based on Android 14 it is a versatile powerful device. The Style Sync AI generative theming allows you to customize your experience. Read MoreProduct DescriptionSilicone Vegan Leather Finish With Metal FrameThoughtfully designed with a sense of harmony, the premium curves flow through every element of the Motorola Edge 50 Pro, with a precision-cut metal frame and symmetrical curved edges that fit the natural contours of your hand like a glove. Stand out from the crowd with the silicone vegan leather finish that feels rich, smooth, and natural to the touch. You can also flaunt the tofu colour variant that boasts a beautiful pearl finish which has been handcrafted in Italy.\\n1.5K 144 Hz Pantone Validated True Colour Curved DisplayEnrich your entertainment experience and make it larger than life with the 17.22 cm (6.7) pOLED curved display. Immerse yourself in more than a billion shades of true-to-life colours and a display that truly represents natural skin tones that are Validated by Pantone. HDR10+ support along with a 100% DCI-P3 colour gamut gives you a cinematic experience that offers incredible contrast, vibrant picture quality and sharper details. The ultra-smooth 144 Hz refresh rate enables you to switch between apps, play games, and scroll seamlessly.\\n50 MP (f/1.4) Wide Aperture AI-Powered Camera with Pantone Colour ValidationTransform every moment into a cherished memory with the 50 MP main OIS camera that comes with the widest aperture (f/1.4) available in the segment, so you get a better low-light performance and natural soft-focus backgrounds. Whether you’re capturing a beautiful shot or creating content, shoot with confidence as you experience the full spectrum of real-world colours and accurate skin tones that are validated by Pantone. Additionally, make the most of all the AI-fueled features like Tilt Shot, AI Photo Enhancement, EngineFusion, Advanced Long Exposure, AI Adaptive Stabilization, and more to take your creativity to the next level.\\nNo Shake Videos With AI Video StabilizationCapture all the emotions with motion, no matter how much you or your subject move around. Take advantage of our most advanced stabilization and auto-focus ever to unleash your creativity with the new AI-enabled features that make it easy to get great results on the move. Adaptive Stabilization uses AI to recognize your movement while filming and dynamically adjusts the stabilization level for the best results. Auto Focus Tracking gives you sharp, clear results by using AI to keep your subject in focus, always.\\nAI Phone Enhancement EngineEnhance your image quality and shoot like a pro with AI-enhanced image Processing. AI improves the dynamic range and enables both software-based bokeh and advanced noise reduction, especially in low-lighting conditions. All this processing happens on uncompressed RAW image data as it simultaneously applies settings from multiple shooting modes into one to deliver peak quality and finer details. You can really notice the difference when you zoom in.\\n30X Hybrid Zoom From 3X Telephoto Camera LensZoom into your subject and see the scene clearly from 3X the distance with Optical Zoom, or use advanced Hybrid Zoom for 30X the distance. Either way, Optical Image Stabilization smoothens out unwanted shakes, so your photos turn out crystal clear. Experience amazing detail thanks to the dedicated Telephoto Lens, which captures professional portraits too, which means that more of your subject can be in the frame.\\n50 MP Selfie Camera with Auto FocusSnap stunning selfies with the 50 MP selfie camera, one of the highest-resolution front cameras in its class. Plus, your entire gang will be the frame and will stay in focus no matter how far they are from the camera thanks to the Auto Focus technology. Also enjoy 4X better low-light sensitivity with Quad Pixel technology, which combines every four pixels into one for brilliant results. All-in-all, get great results even in dark environments with an f/1.9 aperture that’s wider than most selfie cameras.\\nIP68 Underwater ProtectionSubmerge all your worries underwater with Motorola Edge 50 Pro which comes with an IP68 rating. This means you get underwater protection as you go with the flow and everyday peace of mind. The phone can also withstand dust, dirt, and sand, along with submersion in 1.5 meters of water for up to 30 minutes.\\n125 W TurboPower Charging + 50 W Wireless Charging + 10 W Reverse ChargePower-up possibilities with 125 W, the fastest TurboPower charging ever. The blazing-fast TurboPower 50 W wireless charging lets you refuel your phone without the hassle of any cords and cables. Wait, there’s more, you can even help out a friend in need and give them a little battery life with the 10 W wireless reverse charging.\\nIntroducing Hello UI based on Android 14Customize your moto and make it your own by choosing fonts, colours, unique wallpapers, icons, and widgets that match your vibe. You can also make your Moto more intuitive, more personal and more secure with exclusive Moto features. Moto Secure protects your phone and keeps all the threats at bay. It’s your go-to destination for all your key security and privacy features. Moto Connect gives you more space to work and play. Play mobile games on your TV, feel like you’re in the room during video calls and use your favourite apps on your desktop. Family Space allows you to set limits on screen time, control access to apps, and create multiple profiles on your phone where kids can explore, learn and play freely.\\nStyle Sync with AI Generative ThemingSay hello to a smartphone that truly reflects your unique style. Generate personalized wallpapers and device themes tailored to your taste with the Motorola Edge 50 Pro. Simply snap a pic of your outfit or any funky pattern and witness the AI Generative technology create four exclusive images that match your vibe. Select your favourite and set it as your wallpaper, so your smartphone and you are always in perfect sync.\\nSmartphone with Pantone Validation Camera and DisplayImagine a device that empowers you to confidently capture and view the true essence of your surroundings as you see them. Experience more than a billion real-world colours and a wide spectrum of human skin tones with Motorola Edge 50 Pro, the smartphone with a Pantone-validated camera and display.\\nView all featuresSpecificationsGeneralIn The BoxHandset, 125W TurboPower Charger, USB Type-C to USB Type-C Cable, Guides, Sim Tool, Protective Case, Protective FilmModel NumberPB1H0006INModel NameEdge 50 Pro 5GColorLuxe LavenderBrowse TypeSmartphonesSIM TypeDual SimHybrid Sim SlotNoTouchscreenYesOTG CompatibleYesQuick ChargingYesAdditional ContentWith 125W ChargerSound EnhancementsDual Stereo Speakers, Tuning by Dolby Atmos, Spatial Sound by MotorolaSAR ValueHead: 1.08 W/kg (at 1g), Body: 1.08 W/kg (at 1g)Display FeaturesDisplay Size17.02 cm (6.7 inch)Resolution2712 x 1220 PixelsDisplay TypeSuper HD 1.5K DisplayOther Display FeaturesScreen-to-Body Ratio: 90.75%, pOLED, HDR10+, 10-bit, Over a Billion Shades of Color, 100% DCI-P3 Color Space, 144Hz Refresh Rate, Touch Rate: 360Hz (Gaming Mode), DC Dimming, LTPS, Peak Brightness: 2000 nitsOs & Processor FeaturesOperating SystemAndroid 14Processor BrandSnapdragonProcessor Type7 Gen 3 Mobile PlatformProcessor CoreOcta CorePrimary Clock Speed2.63 GHzSecondary Clock Speed2.4 GHzTertiary Clock Speed1.8 GHzOperating Frequency5G: n1/n2/n3/n5/n7/n8/n20/n26/n28/n38/n40/n41/n66/n77/n78, 4G LTE: B1/B2/B3/B4/B5/B7/B8/B12/B13/B17/B18/B19/B20/B26/B28/B32/B38/B39/B40/B41/B42/B43/B48/B66, 3G UMTS: B1/B2/B4/B5/B8, 2G GSM: B2/B3/B5/B8Memory & Storage FeaturesInternal Storage256 GBRAM12 GBCamera FeaturesPrimary Camera AvailableYesPrimary Camera50MP + 13MP + 10MPPrimary Camera FeaturesTriple Camera Setup: 50MP Main Camera (1/1.3 inch Optical Format, f/1.4 Aperture, 1.0?m Pixel Size (Quad Pixel Technology for 2.0um), Omni Directional PDAF, Optical Image Stabilization) + 13MP Ultrawide Angle Camera (FOV: 120 Degree, Macro Vision, f/2.2 Aperture, 1.12um Pixel Size, Autofocus) + 10MP Telephoto Camera (3X Optical Zoom, f/2.0 Aperture, 1.0um Pixel Size, Autofocus, Optical Image Stabilization), Features: Laser Autofocus (Time-of-Flight), 3-in-1 Sensor (Exposure, Auto White Balance, Flicker), Shooting Modes: Portrait (24mm/35mm/50mm/85mm), Macro, Long Exposure, Timelapse, Dual Capture, Ultra-Res, Night Vision, Tilt-Shift, Pro, Scan (Powered by Adobe Scan), 360 Degree Panorama, Artificial Intelligence: Photo Enhancement Engine, Auto Smile Capture, Gesture Capture, Google Lens Integration, Shot Optimization, Smart High Resolution, Style Sync, Other Features (Google Photos Auto Enhance, Pantone Validated Color & Pantone Skintone Validated, Super Resolution Zoom, Hybrid Zoom: 30X, Burst Shot, Timer, Assistive Grid, Leveler, Metering Mode, Watermark, Live Filters, Selfie Photo Mirror, Selfie Stick Support, RAW Photo Output, QR/Barcode Scanner, Quick Capture (Twist-Twist)Optical ZoomYesSecondary Camera AvailableYesSecondary Camera50MP Front CameraSecondary Camera FeaturesFront Camera Setup: 50MP Camera (f/1.9 Aperture, 0.64um Pixel Size (Quad Pixel Technology for 1.28um), Autofocus), Features: Portrait (W/ Group Selfie & Smart Adjustments), Photo Booth, Pro, Dual Capture, Spot Color, Artificial Intelligence (Photo Enhancement Engine, Auto Smile Capture, Gesture Capture, Google Photos Auto Enhance), Other Features (Burst Shot, Timer, Assistive Grid, Leveler, Metering Mode, Watermark, Live Filters, Selfie Photo Mirror, Selfie Stick Support, RAW Photo Output, HDR, Quick Capture (Twist-Twist)FlashSingle LED FlashHD RecordingYesFull HD RecordingYesVideo RecordingYesVideo Recording ResolutionRear Camera: Main Camera [4K UHD (at 30 fps), FHD (at 60 fps/at 30 fps), 4K UHD HDR10+ (at 30 fps), FHD HDR10+ (at 30 fps W/EIS), Slow Motion: FHD (at 240 fps/at 120 fps)], Ultrawide/Macro Camera [4K UHD (at 30 fps), FHD (at 30 fps)], Rear Telephoto Camera [4K UHD (at 30 fps), FHD (at 60 fps/at 30 fps)]Frame Rate240 fps, 120 fps, 60 fps, 30 fpsDual Camera LensPrimary CameraCall FeaturesSpeaker PhoneYesConnectivity FeaturesNetwork Type2G, 3G, 4G, 5GSupported Networks4G LTE, 5G, GSM, UMTSInternet Connectivity5G, 4G, 3G, Edge, Wi-Fi3GYesMicro USB PortYesMicro USB VersionType C Port (USB 3.1)Bluetooth SupportYesBluetooth Versionv5.4Wi-FiYesWi-Fi VersionWi-Fi 802.11 a/b/g/n/ac/ax (2.4 GHz | 5 GHz | 6 GHz), Wi-Fi 6EWi-Fi HotspotYesNFCYesUSB ConnectivityYesEDGEYesGPS SupportYesOther DetailsSmartphoneYesSMSYesGraphics PPI446 PPISensorsProximity Sensor, 3-in-1 Sensor (Exposure, Auto White Balance, Flicker), Time of Flight, Accelerometer, Gyroscope, SAR Sensor, Magnetometer (Compass)Upgradable Operating System3 Years OS Upgrade, 4 Years of SMRsOther FeaturesUFS 2.2, Display Certification: Amazon HD Streaming, Netflix HD Streaming, SGS Low Blue Light, SGS Low Motion Blur, Pantone Display Color Calibration, Upto 50W, Wireless Charging, 10W Wireless Power Sharing, IP68 Water Protection, Frame: Sandblasted Aluminum, Rear: Silicone Vegan Leather (or Acetate), DisplayPort 1.4, Dual Microphones, Security: On Screen Fingerprint Reader, Face Unlock, ThinkShield, Moto SecureGPS TypeGPS, AGPS, LTEPP, SUPL, GLONASS, GALILEO, NAVICBattery & Power FeaturesBattery Capacity4500 mAhDimensionsWidth72.4 mmHeight161.23 mmDepth8.19 mmWeight186 gWarrantyWarranty Summary1 Year on Handset and 6 Months on AccessoriesDomestic Warranty1 YearRead MoreHave doubts regarding this product?Post your questionSafe and Secure Payments.Easy returns.100% Authentic products.You might be interested inPower BanksMin. 50% OffShop NowMobile Skin StickersMin. 50% OffShop NowTrue WirelessMin. 50% OffShop NowSelfie SticksMin. 50% OffShop NowTop Stories:Brand DirectoryMOST SEARCHED IN Mobiles & Accessories:IPHONE 6 SVIDEOCON AC PRICEHONOUR 6LAVA IRIS WIN 1LAVA IRIS X5LENOVO A3000LENOVO TAB S8MICROMAX A110 PRICEMICROSOFT LUMIA 435 DUAL SIMMICROSOFT LUMIABUMPER CASECDMA HANDSETSXIAOMI MOBILE INDIANOKIA LATEST MOBILESSAMSUNG CHEAPEST MOBILESONY PHONE PRICE LISTNEXUS 5X INDIAJ1GALAXY TRENDSONY XPERIA Z3 PRICE IN INDIAVIDEOCON6S PRICE IN INDIAASUS ZENFONE SELFIE PRICEFLIP PHONESGIONEE 5.1PANASONIC P55 MOBILEZOPO MOBILE PRICENOKIA E63SAMSUNG E5 PRICEABOUTContact UsAbout UsCareersFlipkart StoriesPressCorporate InformationGROUP COMPANIESMyntraFlipkart WholesaleCleartripShopsyHELPPaymentsShippingCancellation & ReturnsFAQReport InfringementCONSUMER POLICYCancellation & ReturnsTerms Of UseSecurityPrivacySitemapGrievance RedressalEPR ComplianceMail Us:Flipkart Internet Private Limited, \\n Buildings Alyssa, Begonia & \\n Clove Embassy Tech Village, \\n Outer Ring Road, Devarabeesanahalli Village, \\n Bengaluru, 560103, \\n Karnataka, India\\nSocialRegistered Office Address:Flipkart Internet Private Limited, \\n Buildings Alyssa, Begonia & \\n Clove Embassy Tech Village, \\n Outer Ring Road, Devarabeesanahalli Village, \\n Bengaluru, 560103, \\n Karnataka, India \\n CIN : U51109KA2012PTC066107 \\n Telephone: 044-45614700\\nBecome a SellerAdvertiseGift CardsHelp Center© 2007-2024 Flipkart.comBack to top   \\n \\n\\n\\n ', metadata={'source': 'https://www.flipkart.com/motorola-edge-50-pro-5g-125w-charger-luxe-lavender-256-gb/p/itm3281f9ac32d1a?pid=MOBGXFXY2SBHGSVN&lid=LSTMOBGXFXY2SBHGSVNUNNNTJ&marketplace=FLIPKART&q=moto+edge+50+pro&store=tyy%2F4io&srno=s_1_1&otracker=AS_QueryStore_OrganicAutoSuggest_2_9_na_na_na&otracker1=AS_QueryStore_OrganicAutoSuggest_2_9_na_na_na&fm=organic&iid=f70e0ce2-f55d-4e98-b74b-96514017f77a.MOBGXFXY2SBHGSVN.SEARCH&ppt=hp&ppn=homepage&ssid=jst76zkm7k0000001712501090760&qH=22f8a288f3cd4f21', 'title': 'MOTOROLA Edge 50 Pro 5G ( 256 GB Storage, 12 GB RAM ) Online at Best Price On Flipkart.com', 'language': 'en'})]]"
      ]
     },
     "execution_count": 4,
     "metadata": {},
     "output_type": "execute_result"
    }
   ],
   "source": [
    "text_documents"
   ]
  },
  {
   "cell_type": "code",
   "execution_count": 6,
   "metadata": {},
   "outputs": [
    {
     "data": {
      "text/plain": [
       "[Document(page_content=\"\\n\\n\\n\\n\\nKamalesh\\n\\n\\n\\n\\n\\n\\n\\n\\n\\nHome\\n\\n\\n\\nSkills\\n\\nEmbedded Sytems\\nBusiness Analytics\\nProduct Design & SQA\\nProgramming\\n\\n\\n\\nLinks\\n\\n\\n\\n\\n\\nHello, I'm Kamalesh\\nMultidisciplinary Engineer with good exposure to Embedded systems, Programming, Mechanical and Business Analytics. \\n\\nAbout Me\\n\\n\\n\\n\\n\\n\\nAbout Me\\n\\n\\n\\n\\n\\n\\nI am a passion driven, result oriented Multidisciplinary Engineer with high proficiency in\\r\\n        Mechanical, Electrical and Computer Science Engineering.\\nI set goals for myself and strive to achieve it through consistent learning and improvement cycle.\\r\\n        Started my career as a Mechanical Engineer, developed Product Design and People management skillsets.\\r\\n         Continued to develop my skills on Embedded systems, Mechatronics System integration, Programming and Business Analytics.\\r\\n        \\n\\n\\n\\n\\n\\n\\n\\nEmbedded System\\n\\n\\n\\n\\nAdequate first-hand experience on using multitude of Microcontrollers.\\nWorked with 8051, STM32, ESP32 micrcontrollers and their on-board peripherals\\nConcrete knowledge on GPIOs, PWM, Timers/Counters, ADC and communication protocols like SPI, I2C and UART\\nBasic understanding on OSI Model\\nOperative knowledge on using sensors like Accelerometer, Temperature sensor, Joystick and modules like WiFi and Bluetooth\\nProficiency in C language, have knowledge in using GCC and Makefiles to automate the build process\\nPossess high level understanding on Embedded machine learning\\n\\n\\n\\n\\n\\n\\n\\n\\nBusiness Analytics\\n\\n\\n\\n\\nPursuing Post Graduate Certificate in Business Analytics (PGCBA)\\r\\n                  from XLRI through virtual classroom training by Talentedge\\nExposure to Descriptive Statistics\\nAdept at Data Visualization tools like Tableau, PowerBI\\n\\n\\n\\n\\n\\n\\n\\n\\nProduct Design & SQA\\n\\n\\n\\n\\nHave taken the role of a R&D and SQA Engineer in an Tractor Manufacturing concern for a period of 2 years \\nPossess great command over Machine Design and Strength of Machines\\nContributed towards entire Design and Development process\\nSolved 5 major Design issues in the existing model\\nPossess knowledge relating to Quality and Supplier Quality Assurance\\nSecured 1st Prize team position in Engineering Design category at BAJA SAEINDIA 2017 at Natrax, Pithampur\\nCompleted In-Plant training at PSG INDUSTRIAL INSTITUTE for period of 2012-2017\\nProficient knowledge on using softwares like Creo, Solidworks, ANSYS and Matlab/Simulink\\n\\n\\n\\n\\n\\n\\n\\n\\nProgramming\\n\\n\\n\\n\\nAdept at programming C \\nHave exposure to Image Processing and have used libraries like OpenCV, MediaPipe, NumPy in Python\\nApplied knowledge of Data Analytics using lanuages like R and Python and used libraries like pandas, seaborn, matplotlib, plotly for Data Visualization\\nBroad level exposure to HTML, CSS and JavaScript\\nPossess hands-on exposure in using Version control using Git\\n\\n\\n\\n\\n\\n\\n\\n\\n\\nLinks\\n\\n\\n\\n\\n\\nLinkedIn\\n\\n\\n\\n\\n\\nGitHub\\n\\n\\n\\n\\n\\n\\nTableau\\n\\n\\n\\n\\n\\nR\\n\\n\\n\\n\\n\\nGitLab\\n\\n\\n\\n\\n\\n\\n\\n\\n\", metadata={'source': 'https://kamalesh.net/', 'title': 'Kamalesh', 'language': 'en'}),\n",
       " Document(page_content='  MOTOROLA Edge 50 Pro 5G ( 256 GB Storage, 12 GB RAM ) Online at Best Price On Flipkart.com       Explore PlusLoginBecome a Seller More CartBig Bachat Days Ends in03 hrs : 44 mins : 10 secsHomeMobiles & AccessoriesMobilesMOTOROLA MobilesMotorola Edge 50 Pro 5G with 125W Charger (Luxe Lavender, 256 GB) (12 GB RAM)\\nCompareShareMotorola Edge 50 Pro 5G with 125W Charger (Luxe Lavender, 256 GB)\\xa0\\xa0(12 GB RAM)#JustHereBe the first to Review this productExtra ₹6000 off₹35,999₹41,99914% offiComing SoonAvailable offersBank Offer5% Cashback on Flipkart Axis Bank CardT&CBank OfferGet ₹25* instant discount for the 1st Flipkart Order using Flipkart UPIT&CBank Offer₹2000 Off On HDFC Bank Credit Card Non EMI Transactions.T&CSpecial PriceGet extra ₹6000 off (price inclusive of cashback/coupon)T&CView 6 more offers1 Year on Handset and 6 Months on AccessoriesKnow MoreColorBlack BeautyLuxe LavenderMoonlight PearlPlease select a Color to proceed✕RAM8 GB8 GB12 GB12 GBPlease select a RAM to proceed✕Highlights12 GB RAM | 256 GB ROM17.02 cm (6.7 inch) Display50MP + 13MP + 10MP | 50MP Front Camera4500 mAh Battery7 Gen 3 Mobile Platform ProcessorEasy Payment OptionsNo cost EMI starting from ₹4,000/monthNet banking & Credit/ Debit/ ATM cardView DetailsRead all detailsSellerTruenet Commerce47 Days Service Center Replacement/Repair?GST invoice available?See other sellersProtect your productDigital Suraksha for Rs 50,000 by Bajaj AllianzGet your financial losses covered for online transaction frauds on all bank accounts, credit/ debit cards, mobile wallets. Covers scam calls, OTP SMS frauds, UPI, netbanking, Cyber Attacks, Sim-swapping, Phishing, Spoofing, and more.Know MoreEnjoy peace of mind against all kinds of Cyber Fraud!₹183DescriptionMotorola Edge 50 Pro has an amalgamation of great designs and amazing features. It embodies a silicone vegan leather finish with a metal frame for a premium feel. Its 17.22 cm (6.7) curved display is Pantone validated for true colours. This 1.5K super HD display, supports HDR10+ and has a refresh rate of 144 Hz to give clear visual effects all the time. Capture beautiful photos with this 50 MP AI-powered camera with OIS that comes with Pantone-validated colours and a f/1.4 wide aperture making it good in low-light conditions. For shake-free videos, AI video stabilization comes in handy, while the AI phone enhancement engine improves image quality. There is also 13 MP ultrawide + macro camera, 10 MP telephoto camers with 30X hybrid zoom and OIS. Selfie camera is 50 MP Auto focus. With IP68 waterproofing, 125 W TurboPower charging, and Hello UI based on Android 14 it is a versatile powerful device. The Style Sync AI generative theming allows you to customize your experience. Read MoreProduct DescriptionSilicone Vegan Leather Finish With Metal FrameThoughtfully designed with a sense of harmony, the premium curves flow through every element of the Motorola Edge 50 Pro, with a precision-cut metal frame and symmetrical curved edges that fit the natural contours of your hand like a glove. Stand out from the crowd with the silicone vegan leather finish that feels rich, smooth, and natural to the touch. You can also flaunt the tofu colour variant that boasts a beautiful pearl finish which has been handcrafted in Italy.\\n1.5K 144 Hz Pantone Validated True Colour Curved DisplayEnrich your entertainment experience and make it larger than life with the 17.22 cm (6.7) pOLED curved display. Immerse yourself in more than a billion shades of true-to-life colours and a display that truly represents natural skin tones that are Validated by Pantone. HDR10+ support along with a 100% DCI-P3 colour gamut gives you a cinematic experience that offers incredible contrast, vibrant picture quality and sharper details. The ultra-smooth 144 Hz refresh rate enables you to switch between apps, play games, and scroll seamlessly.\\n50 MP (f/1.4) Wide Aperture AI-Powered Camera with Pantone Colour ValidationTransform every moment into a cherished memory with the 50 MP main OIS camera that comes with the widest aperture (f/1.4) available in the segment, so you get a better low-light performance and natural soft-focus backgrounds. Whether you’re capturing a beautiful shot or creating content, shoot with confidence as you experience the full spectrum of real-world colours and accurate skin tones that are validated by Pantone. Additionally, make the most of all the AI-fueled features like Tilt Shot, AI Photo Enhancement, EngineFusion, Advanced Long Exposure, AI Adaptive Stabilization, and more to take your creativity to the next level.\\nNo Shake Videos With AI Video StabilizationCapture all the emotions with motion, no matter how much you or your subject move around. Take advantage of our most advanced stabilization and auto-focus ever to unleash your creativity with the new AI-enabled features that make it easy to get great results on the move. Adaptive Stabilization uses AI to recognize your movement while filming and dynamically adjusts the stabilization level for the best results. Auto Focus Tracking gives you sharp, clear results by using AI to keep your subject in focus, always.\\nAI Phone Enhancement EngineEnhance your image quality and shoot like a pro with AI-enhanced image Processing. AI improves the dynamic range and enables both software-based bokeh and advanced noise reduction, especially in low-lighting conditions. All this processing happens on uncompressed RAW image data as it simultaneously applies settings from multiple shooting modes into one to deliver peak quality and finer details. You can really notice the difference when you zoom in.\\n30X Hybrid Zoom From 3X Telephoto Camera LensZoom into your subject and see the scene clearly from 3X the distance with Optical Zoom, or use advanced Hybrid Zoom for 30X the distance. Either way, Optical Image Stabilization smoothens out unwanted shakes, so your photos turn out crystal clear. Experience amazing detail thanks to the dedicated Telephoto Lens, which captures professional portraits too, which means that more of your subject can be in the frame.\\n50 MP Selfie Camera with Auto FocusSnap stunning selfies with the 50 MP selfie camera, one of the highest-resolution front cameras in its class. Plus, your entire gang will be the frame and will stay in focus no matter how far they are from the camera thanks to the Auto Focus technology. Also enjoy 4X better low-light sensitivity with Quad Pixel technology, which combines every four pixels into one for brilliant results. All-in-all, get great results even in dark environments with an f/1.9 aperture that’s wider than most selfie cameras.\\nIP68 Underwater ProtectionSubmerge all your worries underwater with Motorola Edge 50 Pro which comes with an IP68 rating. This means you get underwater protection as you go with the flow and everyday peace of mind. The phone can also withstand dust, dirt, and sand, along with submersion in 1.5 meters of water for up to 30 minutes.\\n125 W TurboPower Charging + 50 W Wireless Charging + 10 W Reverse ChargePower-up possibilities with 125 W, the fastest TurboPower charging ever. The blazing-fast TurboPower 50 W wireless charging lets you refuel your phone without the hassle of any cords and cables. Wait, there’s more, you can even help out a friend in need and give them a little battery life with the 10 W wireless reverse charging.\\nIntroducing Hello UI based on Android 14Customize your moto and make it your own by choosing fonts, colours, unique wallpapers, icons, and widgets that match your vibe. You can also make your Moto more intuitive, more personal and more secure with exclusive Moto features. Moto Secure protects your phone and keeps all the threats at bay. It’s your go-to destination for all your key security and privacy features. Moto Connect gives you more space to work and play. Play mobile games on your TV, feel like you’re in the room during video calls and use your favourite apps on your desktop. Family Space allows you to set limits on screen time, control access to apps, and create multiple profiles on your phone where kids can explore, learn and play freely.\\nStyle Sync with AI Generative ThemingSay hello to a smartphone that truly reflects your unique style. Generate personalized wallpapers and device themes tailored to your taste with the Motorola Edge 50 Pro. Simply snap a pic of your outfit or any funky pattern and witness the AI Generative technology create four exclusive images that match your vibe. Select your favourite and set it as your wallpaper, so your smartphone and you are always in perfect sync.\\nSmartphone with Pantone Validation Camera and DisplayImagine a device that empowers you to confidently capture and view the true essence of your surroundings as you see them. Experience more than a billion real-world colours and a wide spectrum of human skin tones with Motorola Edge 50 Pro, the smartphone with a Pantone-validated camera and display.\\nView all featuresSpecificationsGeneralIn The BoxHandset, 125W TurboPower Charger, USB Type-C to USB Type-C Cable, Guides, Sim Tool, Protective Case, Protective FilmModel NumberPB1H0006INModel NameEdge 50 Pro 5GColorLuxe LavenderBrowse TypeSmartphonesSIM TypeDual SimHybrid Sim SlotNoTouchscreenYesOTG CompatibleYesQuick ChargingYesAdditional ContentWith 125W ChargerSound EnhancementsDual Stereo Speakers, Tuning by Dolby Atmos, Spatial Sound by MotorolaSAR ValueHead: 1.08 W/kg (at 1g), Body: 1.08 W/kg (at 1g)Display FeaturesDisplay Size17.02 cm (6.7 inch)Resolution2712 x 1220 PixelsDisplay TypeSuper HD 1.5K DisplayOther Display FeaturesScreen-to-Body Ratio: 90.75%, pOLED, HDR10+, 10-bit, Over a Billion Shades of Color, 100% DCI-P3 Color Space, 144Hz Refresh Rate, Touch Rate: 360Hz (Gaming Mode), DC Dimming, LTPS, Peak Brightness: 2000 nitsOs & Processor FeaturesOperating SystemAndroid 14Processor BrandSnapdragonProcessor Type7 Gen 3 Mobile PlatformProcessor CoreOcta CorePrimary Clock Speed2.63 GHzSecondary Clock Speed2.4 GHzTertiary Clock Speed1.8 GHzOperating Frequency5G: n1/n2/n3/n5/n7/n8/n20/n26/n28/n38/n40/n41/n66/n77/n78, 4G LTE: B1/B2/B3/B4/B5/B7/B8/B12/B13/B17/B18/B19/B20/B26/B28/B32/B38/B39/B40/B41/B42/B43/B48/B66, 3G UMTS: B1/B2/B4/B5/B8, 2G GSM: B2/B3/B5/B8Memory & Storage FeaturesInternal Storage256 GBRAM12 GBCamera FeaturesPrimary Camera AvailableYesPrimary Camera50MP + 13MP + 10MPPrimary Camera FeaturesTriple Camera Setup: 50MP Main Camera (1/1.3 inch Optical Format, f/1.4 Aperture, 1.0?m Pixel Size (Quad Pixel Technology for 2.0um), Omni Directional PDAF, Optical Image Stabilization) + 13MP Ultrawide Angle Camera (FOV: 120 Degree, Macro Vision, f/2.2 Aperture, 1.12um Pixel Size, Autofocus) + 10MP Telephoto Camera (3X Optical Zoom, f/2.0 Aperture, 1.0um Pixel Size, Autofocus, Optical Image Stabilization), Features: Laser Autofocus (Time-of-Flight), 3-in-1 Sensor (Exposure, Auto White Balance, Flicker), Shooting Modes: Portrait (24mm/35mm/50mm/85mm), Macro, Long Exposure, Timelapse, Dual Capture, Ultra-Res, Night Vision, Tilt-Shift, Pro, Scan (Powered by Adobe Scan), 360 Degree Panorama, Artificial Intelligence: Photo Enhancement Engine, Auto Smile Capture, Gesture Capture, Google Lens Integration, Shot Optimization, Smart High Resolution, Style Sync, Other Features (Google Photos Auto Enhance, Pantone Validated Color & Pantone Skintone Validated, Super Resolution Zoom, Hybrid Zoom: 30X, Burst Shot, Timer, Assistive Grid, Leveler, Metering Mode, Watermark, Live Filters, Selfie Photo Mirror, Selfie Stick Support, RAW Photo Output, QR/Barcode Scanner, Quick Capture (Twist-Twist)Optical ZoomYesSecondary Camera AvailableYesSecondary Camera50MP Front CameraSecondary Camera FeaturesFront Camera Setup: 50MP Camera (f/1.9 Aperture, 0.64um Pixel Size (Quad Pixel Technology for 1.28um), Autofocus), Features: Portrait (W/ Group Selfie & Smart Adjustments), Photo Booth, Pro, Dual Capture, Spot Color, Artificial Intelligence (Photo Enhancement Engine, Auto Smile Capture, Gesture Capture, Google Photos Auto Enhance), Other Features (Burst Shot, Timer, Assistive Grid, Leveler, Metering Mode, Watermark, Live Filters, Selfie Photo Mirror, Selfie Stick Support, RAW Photo Output, HDR, Quick Capture (Twist-Twist)FlashSingle LED FlashHD RecordingYesFull HD RecordingYesVideo RecordingYesVideo Recording ResolutionRear Camera: Main Camera [4K UHD (at 30 fps), FHD (at 60 fps/at 30 fps), 4K UHD HDR10+ (at 30 fps), FHD HDR10+ (at 30 fps W/EIS), Slow Motion: FHD (at 240 fps/at 120 fps)], Ultrawide/Macro Camera [4K UHD (at 30 fps), FHD (at 30 fps)], Rear Telephoto Camera [4K UHD (at 30 fps), FHD (at 60 fps/at 30 fps)]Frame Rate240 fps, 120 fps, 60 fps, 30 fpsDual Camera LensPrimary CameraCall FeaturesSpeaker PhoneYesConnectivity FeaturesNetwork Type2G, 3G, 4G, 5GSupported Networks4G LTE, 5G, GSM, UMTSInternet Connectivity5G, 4G, 3G, Edge, Wi-Fi3GYesMicro USB PortYesMicro USB VersionType C Port (USB 3.1)Bluetooth SupportYesBluetooth Versionv5.4Wi-FiYesWi-Fi VersionWi-Fi 802.11 a/b/g/n/ac/ax (2.4 GHz | 5 GHz | 6 GHz), Wi-Fi 6EWi-Fi HotspotYesNFCYesUSB ConnectivityYesEDGEYesGPS SupportYesOther DetailsSmartphoneYesSMSYesGraphics PPI446 PPISensorsProximity Sensor, 3-in-1 Sensor (Exposure, Auto White Balance, Flicker), Time of Flight, Accelerometer, Gyroscope, SAR Sensor, Magnetometer (Compass)Upgradable Operating System3 Years OS Upgrade, 4 Years of SMRsOther FeaturesUFS 2.2, Display Certification: Amazon HD Streaming, Netflix HD Streaming, SGS Low Blue Light, SGS Low Motion Blur, Pantone Display Color Calibration, Upto 50W, Wireless Charging, 10W Wireless Power Sharing, IP68 Water Protection, Frame: Sandblasted Aluminum, Rear: Silicone Vegan Leather (or Acetate), DisplayPort 1.4, Dual Microphones, Security: On Screen Fingerprint Reader, Face Unlock, ThinkShield, Moto SecureGPS TypeGPS, AGPS, LTEPP, SUPL, GLONASS, GALILEO, NAVICBattery & Power FeaturesBattery Capacity4500 mAhDimensionsWidth72.4 mmHeight161.23 mmDepth8.19 mmWeight186 gWarrantyWarranty Summary1 Year on Handset and 6 Months on AccessoriesDomestic Warranty1 YearRead MoreHave doubts regarding this product?Post your questionSafe and Secure Payments.Easy returns.100% Authentic products.You might be interested inPower BanksMin. 50% OffShop NowMobile Skin StickersMin. 50% OffShop NowTrue WirelessMin. 50% OffShop NowSelfie SticksMin. 50% OffShop NowTop Stories:Brand DirectoryMOST SEARCHED IN Mobiles & Accessories:IPHONE 6 SVIDEOCON AC PRICEHONOUR 6LAVA IRIS WIN 1LAVA IRIS X5LENOVO A3000LENOVO TAB S8MICROMAX A110 PRICEMICROSOFT LUMIA 435 DUAL SIMMICROSOFT LUMIABUMPER CASECDMA HANDSETSXIAOMI MOBILE INDIANOKIA LATEST MOBILESSAMSUNG CHEAPEST MOBILESONY PHONE PRICE LISTNEXUS 5X INDIAJ1GALAXY TRENDSONY XPERIA Z3 PRICE IN INDIAVIDEOCON6S PRICE IN INDIAASUS ZENFONE SELFIE PRICEFLIP PHONESGIONEE 5.1PANASONIC P55 MOBILEZOPO MOBILE PRICENOKIA E63SAMSUNG E5 PRICEABOUTContact UsAbout UsCareersFlipkart StoriesPressCorporate InformationGROUP COMPANIESMyntraFlipkart WholesaleCleartripShopsyHELPPaymentsShippingCancellation & ReturnsFAQReport InfringementCONSUMER POLICYCancellation & ReturnsTerms Of UseSecurityPrivacySitemapGrievance RedressalEPR ComplianceMail Us:Flipkart Internet Private Limited, \\n Buildings Alyssa, Begonia & \\n Clove Embassy Tech Village, \\n Outer Ring Road, Devarabeesanahalli Village, \\n Bengaluru, 560103, \\n Karnataka, India\\nSocialRegistered Office Address:Flipkart Internet Private Limited, \\n Buildings Alyssa, Begonia & \\n Clove Embassy Tech Village, \\n Outer Ring Road, Devarabeesanahalli Village, \\n Bengaluru, 560103, \\n Karnataka, India \\n CIN : U51109KA2012PTC066107 \\n Telephone: 044-45614700\\nBecome a SellerAdvertiseGift CardsHelp Center© 2007-2024 Flipkart.comBack to top   \\n \\n\\n\\n ', metadata={'source': 'https://www.flipkart.com/motorola-edge-50-pro-5g-125w-charger-luxe-lavender-256-gb/p/itm3281f9ac32d1a?pid=MOBGXFXY2SBHGSVN&lid=LSTMOBGXFXY2SBHGSVNUNNNTJ&marketplace=FLIPKART&q=moto+edge+50+pro&store=tyy%2F4io&srno=s_1_1&otracker=AS_QueryStore_OrganicAutoSuggest_2_9_na_na_na&otracker1=AS_QueryStore_OrganicAutoSuggest_2_9_na_na_na&fm=organic&iid=f70e0ce2-f55d-4e98-b74b-96514017f77a.MOBGXFXY2SBHGSVN.SEARCH&ppt=hp&ppn=homepage&ssid=jst76zkm7k0000001712501090760&qH=22f8a288f3cd4f21', 'title': 'MOTOROLA Edge 50 Pro 5G ( 256 GB Storage, 12 GB RAM ) Online at Best Price On Flipkart.com', 'language': 'en'})]"
      ]
     },
     "execution_count": 6,
     "metadata": {},
     "output_type": "execute_result"
    }
   ],
   "source": [
    "docs_list=[item for sublist in text_documents for item in sublist]\n",
    "docs_list"
   ]
  },
  {
   "cell_type": "code",
   "execution_count": 12,
   "metadata": {},
   "outputs": [],
   "source": [
    "text_splitter=RecursiveCharacterTextSplitter(chunk_size=1000,chunk_overlap=200)\n",
    "documents=text_splitter.split_documents(docs_list)"
   ]
  },
  {
   "cell_type": "code",
   "execution_count": 13,
   "metadata": {},
   "outputs": [
    {
     "data": {
      "text/plain": [
       "[Document(page_content=\"Kamalesh\\n\\n\\n\\n\\n\\n\\n\\n\\n\\nHome\\n\\n\\n\\nSkills\\n\\nEmbedded Sytems\\nBusiness Analytics\\nProduct Design & SQA\\nProgramming\\n\\n\\n\\nLinks\\n\\n\\n\\n\\n\\nHello, I'm Kamalesh\\nMultidisciplinary Engineer with good exposure to Embedded systems, Programming, Mechanical and Business Analytics. \\n\\nAbout Me\\n\\n\\n\\n\\n\\n\\nAbout Me\\n\\n\\n\\n\\n\\n\\nI am a passion driven, result oriented Multidisciplinary Engineer with high proficiency in\\r\\n        Mechanical, Electrical and Computer Science Engineering.\\nI set goals for myself and strive to achieve it through consistent learning and improvement cycle.\\r\\n        Started my career as a Mechanical Engineer, developed Product Design and People management skillsets.\\r\\n         Continued to develop my skills on Embedded systems, Mechatronics System integration, Programming and Business Analytics.\\r\\n        \\n\\n\\n\\n\\n\\n\\n\\nEmbedded System\", metadata={'source': 'https://kamalesh.net/', 'title': 'Kamalesh', 'language': 'en'}),\n",
       " Document(page_content='Embedded System\\n\\n\\n\\n\\nAdequate first-hand experience on using multitude of Microcontrollers.\\nWorked with 8051, STM32, ESP32 micrcontrollers and their on-board peripherals\\nConcrete knowledge on GPIOs, PWM, Timers/Counters, ADC and communication protocols like SPI, I2C and UART\\nBasic understanding on OSI Model\\nOperative knowledge on using sensors like Accelerometer, Temperature sensor, Joystick and modules like WiFi and Bluetooth\\nProficiency in C language, have knowledge in using GCC and Makefiles to automate the build process\\nPossess high level understanding on Embedded machine learning\\n\\n\\n\\n\\n\\n\\n\\n\\nBusiness Analytics\\n\\n\\n\\n\\nPursuing Post Graduate Certificate in Business Analytics (PGCBA)\\r\\n                  from XLRI through virtual classroom training by Talentedge\\nExposure to Descriptive Statistics\\nAdept at Data Visualization tools like Tableau, PowerBI\\n\\n\\n\\n\\n\\n\\n\\n\\nProduct Design & SQA', metadata={'source': 'https://kamalesh.net/', 'title': 'Kamalesh', 'language': 'en'}),\n",
       " Document(page_content='Product Design & SQA\\n\\n\\n\\n\\nHave taken the role of a R&D and SQA Engineer in an Tractor Manufacturing concern for a period of 2 years \\nPossess great command over Machine Design and Strength of Machines\\nContributed towards entire Design and Development process\\nSolved 5 major Design issues in the existing model\\nPossess knowledge relating to Quality and Supplier Quality Assurance\\nSecured 1st Prize team position in Engineering Design category at BAJA SAEINDIA 2017 at Natrax, Pithampur\\nCompleted In-Plant training at PSG INDUSTRIAL INSTITUTE for period of 2012-2017\\nProficient knowledge on using softwares like Creo, Solidworks, ANSYS and Matlab/Simulink\\n\\n\\n\\n\\n\\n\\n\\n\\nProgramming', metadata={'source': 'https://kamalesh.net/', 'title': 'Kamalesh', 'language': 'en'}),\n",
       " Document(page_content='Programming\\n\\n\\n\\n\\nAdept at programming C \\nHave exposure to Image Processing and have used libraries like OpenCV, MediaPipe, NumPy in Python\\nApplied knowledge of Data Analytics using lanuages like R and Python and used libraries like pandas, seaborn, matplotlib, plotly for Data Visualization\\nBroad level exposure to HTML, CSS and JavaScript\\nPossess hands-on exposure in using Version control using Git\\n\\n\\n\\n\\n\\n\\n\\n\\n\\nLinks\\n\\n\\n\\n\\n\\nLinkedIn\\n\\n\\n\\n\\n\\nGitHub\\n\\n\\n\\n\\n\\n\\nTableau\\n\\n\\n\\n\\n\\nR\\n\\n\\n\\n\\n\\nGitLab', metadata={'source': 'https://kamalesh.net/', 'title': 'Kamalesh', 'language': 'en'}),\n",
       " Document(page_content='MOTOROLA Edge 50 Pro 5G ( 256 GB Storage, 12 GB RAM ) Online at Best Price On Flipkart.com       Explore PlusLoginBecome a Seller More CartBig Bachat Days Ends in03 hrs : 44 mins : 10 secsHomeMobiles & AccessoriesMobilesMOTOROLA MobilesMotorola Edge 50 Pro 5G with 125W Charger (Luxe Lavender, 256 GB) (12 GB RAM)', metadata={'source': 'https://www.flipkart.com/motorola-edge-50-pro-5g-125w-charger-luxe-lavender-256-gb/p/itm3281f9ac32d1a?pid=MOBGXFXY2SBHGSVN&lid=LSTMOBGXFXY2SBHGSVNUNNNTJ&marketplace=FLIPKART&q=moto+edge+50+pro&store=tyy%2F4io&srno=s_1_1&otracker=AS_QueryStore_OrganicAutoSuggest_2_9_na_na_na&otracker1=AS_QueryStore_OrganicAutoSuggest_2_9_na_na_na&fm=organic&iid=f70e0ce2-f55d-4e98-b74b-96514017f77a.MOBGXFXY2SBHGSVN.SEARCH&ppt=hp&ppn=homepage&ssid=jst76zkm7k0000001712501090760&qH=22f8a288f3cd4f21', 'title': 'MOTOROLA Edge 50 Pro 5G ( 256 GB Storage, 12 GB RAM ) Online at Best Price On Flipkart.com', 'language': 'en'}),\n",
       " Document(page_content='CompareShareMotorola Edge 50 Pro 5G with 125W Charger (Luxe Lavender, 256 GB)\\xa0\\xa0(12 GB RAM)#JustHereBe the first to Review this productExtra ₹6000 off₹35,999₹41,99914% offiComing SoonAvailable offersBank Offer5% Cashback on Flipkart Axis Bank CardT&CBank OfferGet ₹25* instant discount for the 1st Flipkart Order using Flipkart UPIT&CBank Offer₹2000 Off On HDFC Bank Credit Card Non EMI Transactions.T&CSpecial PriceGet extra ₹6000 off (price inclusive of cashback/coupon)T&CView 6 more offers1 Year on Handset and 6 Months on AccessoriesKnow MoreColorBlack BeautyLuxe LavenderMoonlight PearlPlease select a Color to proceed✕RAM8 GB8 GB12 GB12 GBPlease select a RAM to proceed✕Highlights12 GB RAM | 256 GB ROM17.02 cm (6.7 inch) Display50MP + 13MP + 10MP | 50MP Front Camera4500 mAh Battery7 Gen 3 Mobile Platform ProcessorEasy Payment OptionsNo cost EMI starting from ₹4,000/monthNet banking & Credit/ Debit/ ATM cardView DetailsRead all detailsSellerTruenet Commerce47 Days Service Center', metadata={'source': 'https://www.flipkart.com/motorola-edge-50-pro-5g-125w-charger-luxe-lavender-256-gb/p/itm3281f9ac32d1a?pid=MOBGXFXY2SBHGSVN&lid=LSTMOBGXFXY2SBHGSVNUNNNTJ&marketplace=FLIPKART&q=moto+edge+50+pro&store=tyy%2F4io&srno=s_1_1&otracker=AS_QueryStore_OrganicAutoSuggest_2_9_na_na_na&otracker1=AS_QueryStore_OrganicAutoSuggest_2_9_na_na_na&fm=organic&iid=f70e0ce2-f55d-4e98-b74b-96514017f77a.MOBGXFXY2SBHGSVN.SEARCH&ppt=hp&ppn=homepage&ssid=jst76zkm7k0000001712501090760&qH=22f8a288f3cd4f21', 'title': 'MOTOROLA Edge 50 Pro 5G ( 256 GB Storage, 12 GB RAM ) Online at Best Price On Flipkart.com', 'language': 'en'}),\n",
       " Document(page_content='Gen 3 Mobile Platform ProcessorEasy Payment OptionsNo cost EMI starting from ₹4,000/monthNet banking & Credit/ Debit/ ATM cardView DetailsRead all detailsSellerTruenet Commerce47 Days Service Center Replacement/Repair?GST invoice available?See other sellersProtect your productDigital Suraksha for Rs 50,000 by Bajaj AllianzGet your financial losses covered for online transaction frauds on all bank accounts, credit/ debit cards, mobile wallets. Covers scam calls, OTP SMS frauds, UPI, netbanking, Cyber Attacks, Sim-swapping, Phishing, Spoofing, and more.Know MoreEnjoy peace of mind against all kinds of Cyber Fraud!₹183DescriptionMotorola Edge 50 Pro has an amalgamation of great designs and amazing features. It embodies a silicone vegan leather finish with a metal frame for a premium feel. Its 17.22 cm (6.7) curved display is Pantone validated for true colours. This 1.5K super HD display, supports HDR10+ and has a refresh rate of 144 Hz to give clear visual effects all the time. Capture', metadata={'source': 'https://www.flipkart.com/motorola-edge-50-pro-5g-125w-charger-luxe-lavender-256-gb/p/itm3281f9ac32d1a?pid=MOBGXFXY2SBHGSVN&lid=LSTMOBGXFXY2SBHGSVNUNNNTJ&marketplace=FLIPKART&q=moto+edge+50+pro&store=tyy%2F4io&srno=s_1_1&otracker=AS_QueryStore_OrganicAutoSuggest_2_9_na_na_na&otracker1=AS_QueryStore_OrganicAutoSuggest_2_9_na_na_na&fm=organic&iid=f70e0ce2-f55d-4e98-b74b-96514017f77a.MOBGXFXY2SBHGSVN.SEARCH&ppt=hp&ppn=homepage&ssid=jst76zkm7k0000001712501090760&qH=22f8a288f3cd4f21', 'title': 'MOTOROLA Edge 50 Pro 5G ( 256 GB Storage, 12 GB RAM ) Online at Best Price On Flipkart.com', 'language': 'en'}),\n",
       " Document(page_content='17.22 cm (6.7) curved display is Pantone validated for true colours. This 1.5K super HD display, supports HDR10+ and has a refresh rate of 144 Hz to give clear visual effects all the time. Capture beautiful photos with this 50 MP AI-powered camera with OIS that comes with Pantone-validated colours and a f/1.4 wide aperture making it good in low-light conditions. For shake-free videos, AI video stabilization comes in handy, while the AI phone enhancement engine improves image quality. There is also 13 MP ultrawide + macro camera, 10 MP telephoto camers with 30X hybrid zoom and OIS. Selfie camera is 50 MP Auto focus. With IP68 waterproofing, 125 W TurboPower charging, and Hello UI based on Android 14 it is a versatile powerful device. The Style Sync AI generative theming allows you to customize your experience. Read MoreProduct DescriptionSilicone Vegan Leather Finish With Metal FrameThoughtfully designed with a sense of harmony, the premium curves flow through every element of the', metadata={'source': 'https://www.flipkart.com/motorola-edge-50-pro-5g-125w-charger-luxe-lavender-256-gb/p/itm3281f9ac32d1a?pid=MOBGXFXY2SBHGSVN&lid=LSTMOBGXFXY2SBHGSVNUNNNTJ&marketplace=FLIPKART&q=moto+edge+50+pro&store=tyy%2F4io&srno=s_1_1&otracker=AS_QueryStore_OrganicAutoSuggest_2_9_na_na_na&otracker1=AS_QueryStore_OrganicAutoSuggest_2_9_na_na_na&fm=organic&iid=f70e0ce2-f55d-4e98-b74b-96514017f77a.MOBGXFXY2SBHGSVN.SEARCH&ppt=hp&ppn=homepage&ssid=jst76zkm7k0000001712501090760&qH=22f8a288f3cd4f21', 'title': 'MOTOROLA Edge 50 Pro 5G ( 256 GB Storage, 12 GB RAM ) Online at Best Price On Flipkart.com', 'language': 'en'}),\n",
       " Document(page_content='your experience. Read MoreProduct DescriptionSilicone Vegan Leather Finish With Metal FrameThoughtfully designed with a sense of harmony, the premium curves flow through every element of the Motorola Edge 50 Pro, with a precision-cut metal frame and symmetrical curved edges that fit the natural contours of your hand like a glove. Stand out from the crowd with the silicone vegan leather finish that feels rich, smooth, and natural to the touch. You can also flaunt the tofu colour variant that boasts a beautiful pearl finish which has been handcrafted in Italy.', metadata={'source': 'https://www.flipkart.com/motorola-edge-50-pro-5g-125w-charger-luxe-lavender-256-gb/p/itm3281f9ac32d1a?pid=MOBGXFXY2SBHGSVN&lid=LSTMOBGXFXY2SBHGSVNUNNNTJ&marketplace=FLIPKART&q=moto+edge+50+pro&store=tyy%2F4io&srno=s_1_1&otracker=AS_QueryStore_OrganicAutoSuggest_2_9_na_na_na&otracker1=AS_QueryStore_OrganicAutoSuggest_2_9_na_na_na&fm=organic&iid=f70e0ce2-f55d-4e98-b74b-96514017f77a.MOBGXFXY2SBHGSVN.SEARCH&ppt=hp&ppn=homepage&ssid=jst76zkm7k0000001712501090760&qH=22f8a288f3cd4f21', 'title': 'MOTOROLA Edge 50 Pro 5G ( 256 GB Storage, 12 GB RAM ) Online at Best Price On Flipkart.com', 'language': 'en'}),\n",
       " Document(page_content='1.5K 144 Hz Pantone Validated True Colour Curved DisplayEnrich your entertainment experience and make it larger than life with the 17.22 cm (6.7) pOLED curved display. Immerse yourself in more than a billion shades of true-to-life colours and a display that truly represents natural skin tones that are Validated by Pantone. HDR10+ support along with a 100% DCI-P3 colour gamut gives you a cinematic experience that offers incredible contrast, vibrant picture quality and sharper details. The ultra-smooth 144 Hz refresh rate enables you to switch between apps, play games, and scroll seamlessly.', metadata={'source': 'https://www.flipkart.com/motorola-edge-50-pro-5g-125w-charger-luxe-lavender-256-gb/p/itm3281f9ac32d1a?pid=MOBGXFXY2SBHGSVN&lid=LSTMOBGXFXY2SBHGSVNUNNNTJ&marketplace=FLIPKART&q=moto+edge+50+pro&store=tyy%2F4io&srno=s_1_1&otracker=AS_QueryStore_OrganicAutoSuggest_2_9_na_na_na&otracker1=AS_QueryStore_OrganicAutoSuggest_2_9_na_na_na&fm=organic&iid=f70e0ce2-f55d-4e98-b74b-96514017f77a.MOBGXFXY2SBHGSVN.SEARCH&ppt=hp&ppn=homepage&ssid=jst76zkm7k0000001712501090760&qH=22f8a288f3cd4f21', 'title': 'MOTOROLA Edge 50 Pro 5G ( 256 GB Storage, 12 GB RAM ) Online at Best Price On Flipkart.com', 'language': 'en'}),\n",
       " Document(page_content='50 MP (f/1.4) Wide Aperture AI-Powered Camera with Pantone Colour ValidationTransform every moment into a cherished memory with the 50 MP main OIS camera that comes with the widest aperture (f/1.4) available in the segment, so you get a better low-light performance and natural soft-focus backgrounds. Whether you’re capturing a beautiful shot or creating content, shoot with confidence as you experience the full spectrum of real-world colours and accurate skin tones that are validated by Pantone. Additionally, make the most of all the AI-fueled features like Tilt Shot, AI Photo Enhancement, EngineFusion, Advanced Long Exposure, AI Adaptive Stabilization, and more to take your creativity to the next level.', metadata={'source': 'https://www.flipkart.com/motorola-edge-50-pro-5g-125w-charger-luxe-lavender-256-gb/p/itm3281f9ac32d1a?pid=MOBGXFXY2SBHGSVN&lid=LSTMOBGXFXY2SBHGSVNUNNNTJ&marketplace=FLIPKART&q=moto+edge+50+pro&store=tyy%2F4io&srno=s_1_1&otracker=AS_QueryStore_OrganicAutoSuggest_2_9_na_na_na&otracker1=AS_QueryStore_OrganicAutoSuggest_2_9_na_na_na&fm=organic&iid=f70e0ce2-f55d-4e98-b74b-96514017f77a.MOBGXFXY2SBHGSVN.SEARCH&ppt=hp&ppn=homepage&ssid=jst76zkm7k0000001712501090760&qH=22f8a288f3cd4f21', 'title': 'MOTOROLA Edge 50 Pro 5G ( 256 GB Storage, 12 GB RAM ) Online at Best Price On Flipkart.com', 'language': 'en'}),\n",
       " Document(page_content='No Shake Videos With AI Video StabilizationCapture all the emotions with motion, no matter how much you or your subject move around. Take advantage of our most advanced stabilization and auto-focus ever to unleash your creativity with the new AI-enabled features that make it easy to get great results on the move. Adaptive Stabilization uses AI to recognize your movement while filming and dynamically adjusts the stabilization level for the best results. Auto Focus Tracking gives you sharp, clear results by using AI to keep your subject in focus, always.', metadata={'source': 'https://www.flipkart.com/motorola-edge-50-pro-5g-125w-charger-luxe-lavender-256-gb/p/itm3281f9ac32d1a?pid=MOBGXFXY2SBHGSVN&lid=LSTMOBGXFXY2SBHGSVNUNNNTJ&marketplace=FLIPKART&q=moto+edge+50+pro&store=tyy%2F4io&srno=s_1_1&otracker=AS_QueryStore_OrganicAutoSuggest_2_9_na_na_na&otracker1=AS_QueryStore_OrganicAutoSuggest_2_9_na_na_na&fm=organic&iid=f70e0ce2-f55d-4e98-b74b-96514017f77a.MOBGXFXY2SBHGSVN.SEARCH&ppt=hp&ppn=homepage&ssid=jst76zkm7k0000001712501090760&qH=22f8a288f3cd4f21', 'title': 'MOTOROLA Edge 50 Pro 5G ( 256 GB Storage, 12 GB RAM ) Online at Best Price On Flipkart.com', 'language': 'en'}),\n",
       " Document(page_content='AI Phone Enhancement EngineEnhance your image quality and shoot like a pro with AI-enhanced image Processing. AI improves the dynamic range and enables both software-based bokeh and advanced noise reduction, especially in low-lighting conditions. All this processing happens on uncompressed RAW image data as it simultaneously applies settings from multiple shooting modes into one to deliver peak quality and finer details. You can really notice the difference when you zoom in.\\n30X Hybrid Zoom From 3X Telephoto Camera LensZoom into your subject and see the scene clearly from 3X the distance with Optical Zoom, or use advanced Hybrid Zoom for 30X the distance. Either way, Optical Image Stabilization smoothens out unwanted shakes, so your photos turn out crystal clear. Experience amazing detail thanks to the dedicated Telephoto Lens, which captures professional portraits too, which means that more of your subject can be in the frame.', metadata={'source': 'https://www.flipkart.com/motorola-edge-50-pro-5g-125w-charger-luxe-lavender-256-gb/p/itm3281f9ac32d1a?pid=MOBGXFXY2SBHGSVN&lid=LSTMOBGXFXY2SBHGSVNUNNNTJ&marketplace=FLIPKART&q=moto+edge+50+pro&store=tyy%2F4io&srno=s_1_1&otracker=AS_QueryStore_OrganicAutoSuggest_2_9_na_na_na&otracker1=AS_QueryStore_OrganicAutoSuggest_2_9_na_na_na&fm=organic&iid=f70e0ce2-f55d-4e98-b74b-96514017f77a.MOBGXFXY2SBHGSVN.SEARCH&ppt=hp&ppn=homepage&ssid=jst76zkm7k0000001712501090760&qH=22f8a288f3cd4f21', 'title': 'MOTOROLA Edge 50 Pro 5G ( 256 GB Storage, 12 GB RAM ) Online at Best Price On Flipkart.com', 'language': 'en'}),\n",
       " Document(page_content='50 MP Selfie Camera with Auto FocusSnap stunning selfies with the 50 MP selfie camera, one of the highest-resolution front cameras in its class. Plus, your entire gang will be the frame and will stay in focus no matter how far they are from the camera thanks to the Auto Focus technology. Also enjoy 4X better low-light sensitivity with Quad Pixel technology, which combines every four pixels into one for brilliant results. All-in-all, get great results even in dark environments with an f/1.9 aperture that’s wider than most selfie cameras.\\nIP68 Underwater ProtectionSubmerge all your worries underwater with Motorola Edge 50 Pro which comes with an IP68 rating. This means you get underwater protection as you go with the flow and everyday peace of mind. The phone can also withstand dust, dirt, and sand, along with submersion in 1.5 meters of water for up to 30 minutes.', metadata={'source': 'https://www.flipkart.com/motorola-edge-50-pro-5g-125w-charger-luxe-lavender-256-gb/p/itm3281f9ac32d1a?pid=MOBGXFXY2SBHGSVN&lid=LSTMOBGXFXY2SBHGSVNUNNNTJ&marketplace=FLIPKART&q=moto+edge+50+pro&store=tyy%2F4io&srno=s_1_1&otracker=AS_QueryStore_OrganicAutoSuggest_2_9_na_na_na&otracker1=AS_QueryStore_OrganicAutoSuggest_2_9_na_na_na&fm=organic&iid=f70e0ce2-f55d-4e98-b74b-96514017f77a.MOBGXFXY2SBHGSVN.SEARCH&ppt=hp&ppn=homepage&ssid=jst76zkm7k0000001712501090760&qH=22f8a288f3cd4f21', 'title': 'MOTOROLA Edge 50 Pro 5G ( 256 GB Storage, 12 GB RAM ) Online at Best Price On Flipkart.com', 'language': 'en'}),\n",
       " Document(page_content='125 W TurboPower Charging + 50 W Wireless Charging + 10 W Reverse ChargePower-up possibilities with 125 W, the fastest TurboPower charging ever. The blazing-fast TurboPower 50 W wireless charging lets you refuel your phone without the hassle of any cords and cables. Wait, there’s more, you can even help out a friend in need and give them a little battery life with the 10 W wireless reverse charging.', metadata={'source': 'https://www.flipkart.com/motorola-edge-50-pro-5g-125w-charger-luxe-lavender-256-gb/p/itm3281f9ac32d1a?pid=MOBGXFXY2SBHGSVN&lid=LSTMOBGXFXY2SBHGSVNUNNNTJ&marketplace=FLIPKART&q=moto+edge+50+pro&store=tyy%2F4io&srno=s_1_1&otracker=AS_QueryStore_OrganicAutoSuggest_2_9_na_na_na&otracker1=AS_QueryStore_OrganicAutoSuggest_2_9_na_na_na&fm=organic&iid=f70e0ce2-f55d-4e98-b74b-96514017f77a.MOBGXFXY2SBHGSVN.SEARCH&ppt=hp&ppn=homepage&ssid=jst76zkm7k0000001712501090760&qH=22f8a288f3cd4f21', 'title': 'MOTOROLA Edge 50 Pro 5G ( 256 GB Storage, 12 GB RAM ) Online at Best Price On Flipkart.com', 'language': 'en'}),\n",
       " Document(page_content='Introducing Hello UI based on Android 14Customize your moto and make it your own by choosing fonts, colours, unique wallpapers, icons, and widgets that match your vibe. You can also make your Moto more intuitive, more personal and more secure with exclusive Moto features. Moto Secure protects your phone and keeps all the threats at bay. It’s your go-to destination for all your key security and privacy features. Moto Connect gives you more space to work and play. Play mobile games on your TV, feel like you’re in the room during video calls and use your favourite apps on your desktop. Family Space allows you to set limits on screen time, control access to apps, and create multiple profiles on your phone where kids can explore, learn and play freely.', metadata={'source': 'https://www.flipkart.com/motorola-edge-50-pro-5g-125w-charger-luxe-lavender-256-gb/p/itm3281f9ac32d1a?pid=MOBGXFXY2SBHGSVN&lid=LSTMOBGXFXY2SBHGSVNUNNNTJ&marketplace=FLIPKART&q=moto+edge+50+pro&store=tyy%2F4io&srno=s_1_1&otracker=AS_QueryStore_OrganicAutoSuggest_2_9_na_na_na&otracker1=AS_QueryStore_OrganicAutoSuggest_2_9_na_na_na&fm=organic&iid=f70e0ce2-f55d-4e98-b74b-96514017f77a.MOBGXFXY2SBHGSVN.SEARCH&ppt=hp&ppn=homepage&ssid=jst76zkm7k0000001712501090760&qH=22f8a288f3cd4f21', 'title': 'MOTOROLA Edge 50 Pro 5G ( 256 GB Storage, 12 GB RAM ) Online at Best Price On Flipkart.com', 'language': 'en'}),\n",
       " Document(page_content='Style Sync with AI Generative ThemingSay hello to a smartphone that truly reflects your unique style. Generate personalized wallpapers and device themes tailored to your taste with the Motorola Edge 50 Pro. Simply snap a pic of your outfit or any funky pattern and witness the AI Generative technology create four exclusive images that match your vibe. Select your favourite and set it as your wallpaper, so your smartphone and you are always in perfect sync.\\nSmartphone with Pantone Validation Camera and DisplayImagine a device that empowers you to confidently capture and view the true essence of your surroundings as you see them. Experience more than a billion real-world colours and a wide spectrum of human skin tones with Motorola Edge 50 Pro, the smartphone with a Pantone-validated camera and display.', metadata={'source': 'https://www.flipkart.com/motorola-edge-50-pro-5g-125w-charger-luxe-lavender-256-gb/p/itm3281f9ac32d1a?pid=MOBGXFXY2SBHGSVN&lid=LSTMOBGXFXY2SBHGSVNUNNNTJ&marketplace=FLIPKART&q=moto+edge+50+pro&store=tyy%2F4io&srno=s_1_1&otracker=AS_QueryStore_OrganicAutoSuggest_2_9_na_na_na&otracker1=AS_QueryStore_OrganicAutoSuggest_2_9_na_na_na&fm=organic&iid=f70e0ce2-f55d-4e98-b74b-96514017f77a.MOBGXFXY2SBHGSVN.SEARCH&ppt=hp&ppn=homepage&ssid=jst76zkm7k0000001712501090760&qH=22f8a288f3cd4f21', 'title': 'MOTOROLA Edge 50 Pro 5G ( 256 GB Storage, 12 GB RAM ) Online at Best Price On Flipkart.com', 'language': 'en'}),\n",
       " Document(page_content='View all featuresSpecificationsGeneralIn The BoxHandset, 125W TurboPower Charger, USB Type-C to USB Type-C Cable, Guides, Sim Tool, Protective Case, Protective FilmModel NumberPB1H0006INModel NameEdge 50 Pro 5GColorLuxe LavenderBrowse TypeSmartphonesSIM TypeDual SimHybrid Sim SlotNoTouchscreenYesOTG CompatibleYesQuick ChargingYesAdditional ContentWith 125W ChargerSound EnhancementsDual Stereo Speakers, Tuning by Dolby Atmos, Spatial Sound by MotorolaSAR ValueHead: 1.08 W/kg (at 1g), Body: 1.08 W/kg (at 1g)Display FeaturesDisplay Size17.02 cm (6.7 inch)Resolution2712 x 1220 PixelsDisplay TypeSuper HD 1.5K DisplayOther Display FeaturesScreen-to-Body Ratio: 90.75%, pOLED, HDR10+, 10-bit, Over a Billion Shades of Color, 100% DCI-P3 Color Space, 144Hz Refresh Rate, Touch Rate: 360Hz (Gaming Mode), DC Dimming, LTPS, Peak Brightness: 2000 nitsOs & Processor FeaturesOperating SystemAndroid 14Processor BrandSnapdragonProcessor Type7 Gen 3 Mobile PlatformProcessor CoreOcta CorePrimary Clock', metadata={'source': 'https://www.flipkart.com/motorola-edge-50-pro-5g-125w-charger-luxe-lavender-256-gb/p/itm3281f9ac32d1a?pid=MOBGXFXY2SBHGSVN&lid=LSTMOBGXFXY2SBHGSVNUNNNTJ&marketplace=FLIPKART&q=moto+edge+50+pro&store=tyy%2F4io&srno=s_1_1&otracker=AS_QueryStore_OrganicAutoSuggest_2_9_na_na_na&otracker1=AS_QueryStore_OrganicAutoSuggest_2_9_na_na_na&fm=organic&iid=f70e0ce2-f55d-4e98-b74b-96514017f77a.MOBGXFXY2SBHGSVN.SEARCH&ppt=hp&ppn=homepage&ssid=jst76zkm7k0000001712501090760&qH=22f8a288f3cd4f21', 'title': 'MOTOROLA Edge 50 Pro 5G ( 256 GB Storage, 12 GB RAM ) Online at Best Price On Flipkart.com', 'language': 'en'}),\n",
       " Document(page_content='Mode), DC Dimming, LTPS, Peak Brightness: 2000 nitsOs & Processor FeaturesOperating SystemAndroid 14Processor BrandSnapdragonProcessor Type7 Gen 3 Mobile PlatformProcessor CoreOcta CorePrimary Clock Speed2.63 GHzSecondary Clock Speed2.4 GHzTertiary Clock Speed1.8 GHzOperating Frequency5G: n1/n2/n3/n5/n7/n8/n20/n26/n28/n38/n40/n41/n66/n77/n78, 4G LTE: B1/B2/B3/B4/B5/B7/B8/B12/B13/B17/B18/B19/B20/B26/B28/B32/B38/B39/B40/B41/B42/B43/B48/B66, 3G UMTS: B1/B2/B4/B5/B8, 2G GSM: B2/B3/B5/B8Memory & Storage FeaturesInternal Storage256 GBRAM12 GBCamera FeaturesPrimary Camera AvailableYesPrimary Camera50MP + 13MP + 10MPPrimary Camera FeaturesTriple Camera Setup: 50MP Main Camera (1/1.3 inch Optical Format, f/1.4 Aperture, 1.0?m Pixel Size (Quad Pixel Technology for 2.0um), Omni Directional PDAF, Optical Image Stabilization) + 13MP Ultrawide Angle Camera (FOV: 120 Degree, Macro Vision, f/2.2 Aperture, 1.12um Pixel Size, Autofocus) + 10MP Telephoto Camera (3X Optical Zoom, f/2.0 Aperture, 1.0um', metadata={'source': 'https://www.flipkart.com/motorola-edge-50-pro-5g-125w-charger-luxe-lavender-256-gb/p/itm3281f9ac32d1a?pid=MOBGXFXY2SBHGSVN&lid=LSTMOBGXFXY2SBHGSVNUNNNTJ&marketplace=FLIPKART&q=moto+edge+50+pro&store=tyy%2F4io&srno=s_1_1&otracker=AS_QueryStore_OrganicAutoSuggest_2_9_na_na_na&otracker1=AS_QueryStore_OrganicAutoSuggest_2_9_na_na_na&fm=organic&iid=f70e0ce2-f55d-4e98-b74b-96514017f77a.MOBGXFXY2SBHGSVN.SEARCH&ppt=hp&ppn=homepage&ssid=jst76zkm7k0000001712501090760&qH=22f8a288f3cd4f21', 'title': 'MOTOROLA Edge 50 Pro 5G ( 256 GB Storage, 12 GB RAM ) Online at Best Price On Flipkart.com', 'language': 'en'}),\n",
       " Document(page_content='Image Stabilization) + 13MP Ultrawide Angle Camera (FOV: 120 Degree, Macro Vision, f/2.2 Aperture, 1.12um Pixel Size, Autofocus) + 10MP Telephoto Camera (3X Optical Zoom, f/2.0 Aperture, 1.0um Pixel Size, Autofocus, Optical Image Stabilization), Features: Laser Autofocus (Time-of-Flight), 3-in-1 Sensor (Exposure, Auto White Balance, Flicker), Shooting Modes: Portrait (24mm/35mm/50mm/85mm), Macro, Long Exposure, Timelapse, Dual Capture, Ultra-Res, Night Vision, Tilt-Shift, Pro, Scan (Powered by Adobe Scan), 360 Degree Panorama, Artificial Intelligence: Photo Enhancement Engine, Auto Smile Capture, Gesture Capture, Google Lens Integration, Shot Optimization, Smart High Resolution, Style Sync, Other Features (Google Photos Auto Enhance, Pantone Validated Color & Pantone Skintone Validated, Super Resolution Zoom, Hybrid Zoom: 30X, Burst Shot, Timer, Assistive Grid, Leveler, Metering Mode, Watermark, Live Filters, Selfie Photo Mirror, Selfie Stick Support, RAW Photo Output, QR/Barcode', metadata={'source': 'https://www.flipkart.com/motorola-edge-50-pro-5g-125w-charger-luxe-lavender-256-gb/p/itm3281f9ac32d1a?pid=MOBGXFXY2SBHGSVN&lid=LSTMOBGXFXY2SBHGSVNUNNNTJ&marketplace=FLIPKART&q=moto+edge+50+pro&store=tyy%2F4io&srno=s_1_1&otracker=AS_QueryStore_OrganicAutoSuggest_2_9_na_na_na&otracker1=AS_QueryStore_OrganicAutoSuggest_2_9_na_na_na&fm=organic&iid=f70e0ce2-f55d-4e98-b74b-96514017f77a.MOBGXFXY2SBHGSVN.SEARCH&ppt=hp&ppn=homepage&ssid=jst76zkm7k0000001712501090760&qH=22f8a288f3cd4f21', 'title': 'MOTOROLA Edge 50 Pro 5G ( 256 GB Storage, 12 GB RAM ) Online at Best Price On Flipkart.com', 'language': 'en'}),\n",
       " Document(page_content='Super Resolution Zoom, Hybrid Zoom: 30X, Burst Shot, Timer, Assistive Grid, Leveler, Metering Mode, Watermark, Live Filters, Selfie Photo Mirror, Selfie Stick Support, RAW Photo Output, QR/Barcode Scanner, Quick Capture (Twist-Twist)Optical ZoomYesSecondary Camera AvailableYesSecondary Camera50MP Front CameraSecondary Camera FeaturesFront Camera Setup: 50MP Camera (f/1.9 Aperture, 0.64um Pixel Size (Quad Pixel Technology for 1.28um), Autofocus), Features: Portrait (W/ Group Selfie & Smart Adjustments), Photo Booth, Pro, Dual Capture, Spot Color, Artificial Intelligence (Photo Enhancement Engine, Auto Smile Capture, Gesture Capture, Google Photos Auto Enhance), Other Features (Burst Shot, Timer, Assistive Grid, Leveler, Metering Mode, Watermark, Live Filters, Selfie Photo Mirror, Selfie Stick Support, RAW Photo Output, HDR, Quick Capture (Twist-Twist)FlashSingle LED FlashHD RecordingYesFull HD RecordingYesVideo RecordingYesVideo Recording ResolutionRear Camera: Main Camera [4K UHD (at', metadata={'source': 'https://www.flipkart.com/motorola-edge-50-pro-5g-125w-charger-luxe-lavender-256-gb/p/itm3281f9ac32d1a?pid=MOBGXFXY2SBHGSVN&lid=LSTMOBGXFXY2SBHGSVNUNNNTJ&marketplace=FLIPKART&q=moto+edge+50+pro&store=tyy%2F4io&srno=s_1_1&otracker=AS_QueryStore_OrganicAutoSuggest_2_9_na_na_na&otracker1=AS_QueryStore_OrganicAutoSuggest_2_9_na_na_na&fm=organic&iid=f70e0ce2-f55d-4e98-b74b-96514017f77a.MOBGXFXY2SBHGSVN.SEARCH&ppt=hp&ppn=homepage&ssid=jst76zkm7k0000001712501090760&qH=22f8a288f3cd4f21', 'title': 'MOTOROLA Edge 50 Pro 5G ( 256 GB Storage, 12 GB RAM ) Online at Best Price On Flipkart.com', 'language': 'en'}),\n",
       " Document(page_content='Support, RAW Photo Output, HDR, Quick Capture (Twist-Twist)FlashSingle LED FlashHD RecordingYesFull HD RecordingYesVideo RecordingYesVideo Recording ResolutionRear Camera: Main Camera [4K UHD (at 30 fps), FHD (at 60 fps/at 30 fps), 4K UHD HDR10+ (at 30 fps), FHD HDR10+ (at 30 fps W/EIS), Slow Motion: FHD (at 240 fps/at 120 fps)], Ultrawide/Macro Camera [4K UHD (at 30 fps), FHD (at 30 fps)], Rear Telephoto Camera [4K UHD (at 30 fps), FHD (at 60 fps/at 30 fps)]Frame Rate240 fps, 120 fps, 60 fps, 30 fpsDual Camera LensPrimary CameraCall FeaturesSpeaker PhoneYesConnectivity FeaturesNetwork Type2G, 3G, 4G, 5GSupported Networks4G LTE, 5G, GSM, UMTSInternet Connectivity5G, 4G, 3G, Edge, Wi-Fi3GYesMicro USB PortYesMicro USB VersionType C Port (USB 3.1)Bluetooth SupportYesBluetooth Versionv5.4Wi-FiYesWi-Fi VersionWi-Fi 802.11 a/b/g/n/ac/ax (2.4 GHz | 5 GHz | 6 GHz), Wi-Fi 6EWi-Fi HotspotYesNFCYesUSB ConnectivityYesEDGEYesGPS SupportYesOther DetailsSmartphoneYesSMSYesGraphics PPI446', metadata={'source': 'https://www.flipkart.com/motorola-edge-50-pro-5g-125w-charger-luxe-lavender-256-gb/p/itm3281f9ac32d1a?pid=MOBGXFXY2SBHGSVN&lid=LSTMOBGXFXY2SBHGSVNUNNNTJ&marketplace=FLIPKART&q=moto+edge+50+pro&store=tyy%2F4io&srno=s_1_1&otracker=AS_QueryStore_OrganicAutoSuggest_2_9_na_na_na&otracker1=AS_QueryStore_OrganicAutoSuggest_2_9_na_na_na&fm=organic&iid=f70e0ce2-f55d-4e98-b74b-96514017f77a.MOBGXFXY2SBHGSVN.SEARCH&ppt=hp&ppn=homepage&ssid=jst76zkm7k0000001712501090760&qH=22f8a288f3cd4f21', 'title': 'MOTOROLA Edge 50 Pro 5G ( 256 GB Storage, 12 GB RAM ) Online at Best Price On Flipkart.com', 'language': 'en'}),\n",
       " Document(page_content='VersionWi-Fi 802.11 a/b/g/n/ac/ax (2.4 GHz | 5 GHz | 6 GHz), Wi-Fi 6EWi-Fi HotspotYesNFCYesUSB ConnectivityYesEDGEYesGPS SupportYesOther DetailsSmartphoneYesSMSYesGraphics PPI446 PPISensorsProximity Sensor, 3-in-1 Sensor (Exposure, Auto White Balance, Flicker), Time of Flight, Accelerometer, Gyroscope, SAR Sensor, Magnetometer (Compass)Upgradable Operating System3 Years OS Upgrade, 4 Years of SMRsOther FeaturesUFS 2.2, Display Certification: Amazon HD Streaming, Netflix HD Streaming, SGS Low Blue Light, SGS Low Motion Blur, Pantone Display Color Calibration, Upto 50W, Wireless Charging, 10W Wireless Power Sharing, IP68 Water Protection, Frame: Sandblasted Aluminum, Rear: Silicone Vegan Leather (or Acetate), DisplayPort 1.4, Dual Microphones, Security: On Screen Fingerprint Reader, Face Unlock, ThinkShield, Moto SecureGPS TypeGPS, AGPS, LTEPP, SUPL, GLONASS, GALILEO, NAVICBattery & Power FeaturesBattery Capacity4500 mAhDimensionsWidth72.4 mmHeight161.23 mmDepth8.19 mmWeight186', metadata={'source': 'https://www.flipkart.com/motorola-edge-50-pro-5g-125w-charger-luxe-lavender-256-gb/p/itm3281f9ac32d1a?pid=MOBGXFXY2SBHGSVN&lid=LSTMOBGXFXY2SBHGSVNUNNNTJ&marketplace=FLIPKART&q=moto+edge+50+pro&store=tyy%2F4io&srno=s_1_1&otracker=AS_QueryStore_OrganicAutoSuggest_2_9_na_na_na&otracker1=AS_QueryStore_OrganicAutoSuggest_2_9_na_na_na&fm=organic&iid=f70e0ce2-f55d-4e98-b74b-96514017f77a.MOBGXFXY2SBHGSVN.SEARCH&ppt=hp&ppn=homepage&ssid=jst76zkm7k0000001712501090760&qH=22f8a288f3cd4f21', 'title': 'MOTOROLA Edge 50 Pro 5G ( 256 GB Storage, 12 GB RAM ) Online at Best Price On Flipkart.com', 'language': 'en'}),\n",
       " Document(page_content='Face Unlock, ThinkShield, Moto SecureGPS TypeGPS, AGPS, LTEPP, SUPL, GLONASS, GALILEO, NAVICBattery & Power FeaturesBattery Capacity4500 mAhDimensionsWidth72.4 mmHeight161.23 mmDepth8.19 mmWeight186 gWarrantyWarranty Summary1 Year on Handset and 6 Months on AccessoriesDomestic Warranty1 YearRead MoreHave doubts regarding this product?Post your questionSafe and Secure Payments.Easy returns.100% Authentic products.You might be interested inPower BanksMin. 50% OffShop NowMobile Skin StickersMin. 50% OffShop NowTrue WirelessMin. 50% OffShop NowSelfie SticksMin. 50% OffShop NowTop Stories:Brand DirectoryMOST SEARCHED IN Mobiles & Accessories:IPHONE 6 SVIDEOCON AC PRICEHONOUR 6LAVA IRIS WIN 1LAVA IRIS X5LENOVO A3000LENOVO TAB S8MICROMAX A110 PRICEMICROSOFT LUMIA 435 DUAL SIMMICROSOFT LUMIABUMPER CASECDMA HANDSETSXIAOMI MOBILE INDIANOKIA LATEST MOBILESSAMSUNG CHEAPEST MOBILESONY PHONE PRICE LISTNEXUS 5X INDIAJ1GALAXY TRENDSONY XPERIA Z3 PRICE IN INDIAVIDEOCON6S PRICE IN INDIAASUS ZENFONE', metadata={'source': 'https://www.flipkart.com/motorola-edge-50-pro-5g-125w-charger-luxe-lavender-256-gb/p/itm3281f9ac32d1a?pid=MOBGXFXY2SBHGSVN&lid=LSTMOBGXFXY2SBHGSVNUNNNTJ&marketplace=FLIPKART&q=moto+edge+50+pro&store=tyy%2F4io&srno=s_1_1&otracker=AS_QueryStore_OrganicAutoSuggest_2_9_na_na_na&otracker1=AS_QueryStore_OrganicAutoSuggest_2_9_na_na_na&fm=organic&iid=f70e0ce2-f55d-4e98-b74b-96514017f77a.MOBGXFXY2SBHGSVN.SEARCH&ppt=hp&ppn=homepage&ssid=jst76zkm7k0000001712501090760&qH=22f8a288f3cd4f21', 'title': 'MOTOROLA Edge 50 Pro 5G ( 256 GB Storage, 12 GB RAM ) Online at Best Price On Flipkart.com', 'language': 'en'}),\n",
       " Document(page_content='CASECDMA HANDSETSXIAOMI MOBILE INDIANOKIA LATEST MOBILESSAMSUNG CHEAPEST MOBILESONY PHONE PRICE LISTNEXUS 5X INDIAJ1GALAXY TRENDSONY XPERIA Z3 PRICE IN INDIAVIDEOCON6S PRICE IN INDIAASUS ZENFONE SELFIE PRICEFLIP PHONESGIONEE 5.1PANASONIC P55 MOBILEZOPO MOBILE PRICENOKIA E63SAMSUNG E5 PRICEABOUTContact UsAbout UsCareersFlipkart StoriesPressCorporate InformationGROUP COMPANIESMyntraFlipkart WholesaleCleartripShopsyHELPPaymentsShippingCancellation & ReturnsFAQReport InfringementCONSUMER POLICYCancellation & ReturnsTerms Of UseSecurityPrivacySitemapGrievance RedressalEPR ComplianceMail Us:Flipkart Internet Private Limited,', metadata={'source': 'https://www.flipkart.com/motorola-edge-50-pro-5g-125w-charger-luxe-lavender-256-gb/p/itm3281f9ac32d1a?pid=MOBGXFXY2SBHGSVN&lid=LSTMOBGXFXY2SBHGSVNUNNNTJ&marketplace=FLIPKART&q=moto+edge+50+pro&store=tyy%2F4io&srno=s_1_1&otracker=AS_QueryStore_OrganicAutoSuggest_2_9_na_na_na&otracker1=AS_QueryStore_OrganicAutoSuggest_2_9_na_na_na&fm=organic&iid=f70e0ce2-f55d-4e98-b74b-96514017f77a.MOBGXFXY2SBHGSVN.SEARCH&ppt=hp&ppn=homepage&ssid=jst76zkm7k0000001712501090760&qH=22f8a288f3cd4f21', 'title': 'MOTOROLA Edge 50 Pro 5G ( 256 GB Storage, 12 GB RAM ) Online at Best Price On Flipkart.com', 'language': 'en'}),\n",
       " Document(page_content='Buildings Alyssa, Begonia & \\n Clove Embassy Tech Village, \\n Outer Ring Road, Devarabeesanahalli Village, \\n Bengaluru, 560103, \\n Karnataka, India\\nSocialRegistered Office Address:Flipkart Internet Private Limited, \\n Buildings Alyssa, Begonia & \\n Clove Embassy Tech Village, \\n Outer Ring Road, Devarabeesanahalli Village, \\n Bengaluru, 560103, \\n Karnataka, India \\n CIN : U51109KA2012PTC066107 \\n Telephone: 044-45614700\\nBecome a SellerAdvertiseGift CardsHelp Center© 2007-2024 Flipkart.comBack to top', metadata={'source': 'https://www.flipkart.com/motorola-edge-50-pro-5g-125w-charger-luxe-lavender-256-gb/p/itm3281f9ac32d1a?pid=MOBGXFXY2SBHGSVN&lid=LSTMOBGXFXY2SBHGSVNUNNNTJ&marketplace=FLIPKART&q=moto+edge+50+pro&store=tyy%2F4io&srno=s_1_1&otracker=AS_QueryStore_OrganicAutoSuggest_2_9_na_na_na&otracker1=AS_QueryStore_OrganicAutoSuggest_2_9_na_na_na&fm=organic&iid=f70e0ce2-f55d-4e98-b74b-96514017f77a.MOBGXFXY2SBHGSVN.SEARCH&ppt=hp&ppn=homepage&ssid=jst76zkm7k0000001712501090760&qH=22f8a288f3cd4f21', 'title': 'MOTOROLA Edge 50 Pro 5G ( 256 GB Storage, 12 GB RAM ) Online at Best Price On Flipkart.com', 'language': 'en'})]"
      ]
     },
     "execution_count": 13,
     "metadata": {},
     "output_type": "execute_result"
    }
   ],
   "source": [
    "documents"
   ]
  },
  {
   "cell_type": "code",
   "execution_count": 14,
   "metadata": {},
   "outputs": [],
   "source": [
    "db=Chroma.from_documents(\n",
    "    documents=documents,\n",
    "    collection_name=\"rag-chroma\",\n",
    "    embedding=OllamaEmbeddings(model='nomic-embed-text'),\n",
    "    \n",
    ")"
   ]
  },
  {
   "cell_type": "code",
   "execution_count": 18,
   "metadata": {},
   "outputs": [
    {
     "data": {
      "text/plain": [
       "\"Kamalesh\\n\\n\\n\\n\\n\\n\\n\\n\\n\\nHome\\n\\n\\n\\nSkills\\n\\nEmbedded Sytems\\nBusiness Analytics\\nProduct Design & SQA\\nProgramming\\n\\n\\n\\nLinks\\n\\n\\n\\n\\n\\nHello, I'm Kamalesh\\nMultidisciplinary Engineer with good exposure to Embedded systems, Programming, Mechanical and Business Analytics. \\n\\nAbout Me\\n\\n\\n\\n\\n\\n\\nAbout Me\\n\\n\\n\\n\\n\\n\\nI am a passion driven, result oriented Multidisciplinary Engineer with high proficiency in\\r\\n        Mechanical, Electrical and Computer Science Engineering.\\nI set goals for myself and strive to achieve it through consistent learning and improvement cycle.\\r\\n        Started my career as a Mechanical Engineer, developed Product Design and People management skillsets.\\r\\n         Continued to develop my skills on Embedded systems, Mechatronics System integration, Programming and Business Analytics.\\r\\n        \\n\\n\\n\\n\\n\\n\\n\\nEmbedded System\""
      ]
     },
     "execution_count": 18,
     "metadata": {},
     "output_type": "execute_result"
    }
   ],
   "source": [
    "query=\"What are skills of Kamalesh?\"\n",
    "\n",
    "result=db.similarity_search(query)\n",
    "result[0].page_content"
   ]
  },
  {
   "cell_type": "code",
   "execution_count": 19,
   "metadata": {},
   "outputs": [
    {
     "data": {
      "text/plain": [
       "'MOTOROLA Edge 50 Pro 5G ( 256 GB Storage, 12 GB RAM ) Online at Best Price On Flipkart.com       Explore PlusLoginBecome a Seller More CartBig Bachat Days Ends in03 hrs : 44 mins : 10 secsHomeMobiles & AccessoriesMobilesMOTOROLA MobilesMotorola Edge 50 Pro 5G with 125W Charger (Luxe Lavender, 256 GB) (12 GB RAM)'"
      ]
     },
     "execution_count": 19,
     "metadata": {},
     "output_type": "execute_result"
    }
   ],
   "source": [
    "query=\"What is the Specification of Moto Edge 50 Pro\"\n",
    "\n",
    "result=db.similarity_search(query)\n",
    "result[0].page_content"
   ]
  },
  {
   "cell_type": "code",
   "execution_count": 20,
   "metadata": {},
   "outputs": [
    {
     "data": {
      "text/plain": [
       "VectorStoreRetriever(tags=['Chroma', 'OllamaEmbeddings'], vectorstore=<langchain_community.vectorstores.chroma.Chroma object at 0x00000248E18F6450>)"
      ]
     },
     "execution_count": 20,
     "metadata": {},
     "output_type": "execute_result"
    }
   ],
   "source": [
    "retriever=db.as_retriever()\n",
    "retriever"
   ]
  },
  {
   "cell_type": "code",
   "execution_count": 28,
   "metadata": {},
   "outputs": [],
   "source": [
    "prompt = ChatPromptTemplate.from_template(\"\"\"Answer the following question based only on the provided context:\n",
    "\n",
    "<context>\n",
    "{context}\n",
    "</context>\n",
    "\n",
    "Question: {input}\"\"\")"
   ]
  },
  {
   "cell_type": "code",
   "execution_count": 29,
   "metadata": {},
   "outputs": [],
   "source": [
    "\n",
    "chat = ChatGroq(\n",
    "    api_key = groq_api_key,\n",
    "    model_name = \"mixtral-8x7b-32768\"\n",
    ")"
   ]
  },
  {
   "cell_type": "code",
   "execution_count": 30,
   "metadata": {},
   "outputs": [],
   "source": [
    "document_chain = create_stuff_documents_chain(chat, prompt)\n"
   ]
  },
  {
   "cell_type": "code",
   "execution_count": 33,
   "metadata": {},
   "outputs": [],
   "source": [
    "retrieval_chain = create_retrieval_chain(retriever, document_chain)\n"
   ]
  },
  {
   "cell_type": "code",
   "execution_count": 34,
   "metadata": {},
   "outputs": [
    {
     "data": {
      "text/plain": [
       "RunnableBinding(bound=RunnableAssign(mapper={\n",
       "  context: RunnableBinding(bound=RunnableLambda(lambda x: x['input'])\n",
       "           | VectorStoreRetriever(tags=['Chroma', 'OllamaEmbeddings'], vectorstore=<langchain_community.vectorstores.chroma.Chroma object at 0x00000248E18F6450>), config={'run_name': 'retrieve_documents'})\n",
       "})\n",
       "| RunnableAssign(mapper={\n",
       "    answer: RunnableBinding(bound=RunnableBinding(bound=RunnableAssign(mapper={\n",
       "              context: RunnableLambda(format_docs)\n",
       "            }), config={'run_name': 'format_inputs'})\n",
       "            | ChatPromptTemplate(input_variables=['context', 'input'], messages=[HumanMessagePromptTemplate(prompt=PromptTemplate(input_variables=['context', 'input'], template='Answer the following question based only on the provided context:\\n\\n<context>\\n{context}\\n</context>\\n\\nQuestion: {input}'))])\n",
       "            | ChatGroq(client=<groq.resources.chat.completions.Completions object at 0x00000248E0185590>, async_client=<groq.resources.chat.completions.AsyncCompletions object at 0x00000248E42D9D90>, groq_api_key=SecretStr('**********'))\n",
       "            | StrOutputParser(), config={'run_name': 'stuff_documents_chain'})\n",
       "  }), config={'run_name': 'retrieval_chain'})"
      ]
     },
     "execution_count": 34,
     "metadata": {},
     "output_type": "execute_result"
    }
   ],
   "source": [
    "retrieval_chain"
   ]
  },
  {
   "cell_type": "code",
   "execution_count": 35,
   "metadata": {},
   "outputs": [
    {
     "name": "stdout",
     "output_type": "stream",
     "text": [
      "Based on the provided context, Kamalesh's skills are:\n",
      "\n",
      "1. Embedded Systems: Kamalesh has experience with Embedded Systems and Mechatronics System integration.\n",
      "2. Business Analytics: Kamalesh has knowledge of Business Analytics.\n",
      "3. Product Design & SQA: Kamalesh has experience as an R&D and SQA Engineer, strong command over Machine Design and Strength of Machines, and proficiency in softwares like Creo, Solidworks, ANSYS, and Matlab/Simulink.\n",
      "4. Programming: Kamalesh is adept at programming in C, has exposure to Image Processing and libraries like OpenCV, MediaPipe, and NumPy in Python, knowledge of Data Analytics using languages like R and Python and libraries like pandas, seaborn, matplotlib, plotly for Data Visualization, and hands-on exposure in using Version control using Git.\n",
      "5. Mechanical Engineering: Kamalesh has a strong background in Mechanical Engineering.\n",
      "6. Electrical and Computer Science Engineering: Kamalesh has high proficiency in Electrical and Computer Science Engineering.\n",
      "7. People management: Kamalesh has developed People management skillsets.\n",
      "8. Product Design: Kamalesh has experience in the entire Design and Development process.\n",
      "9. Quality and Supplier Quality Assurance: Kamalesh possesses knowledge relating to Quality and Supplier Quality Assurance.\n",
      "\n",
      "Note: Some skills are inferred based on the context, such as people management, product design, and quality assurance.\n"
     ]
    }
   ],
   "source": [
    "\n",
    "response = retrieval_chain.invoke({\"input\": \"What are the skills of Kamalesh?\"})\n",
    "print(response[\"answer\"])"
   ]
  },
  {
   "cell_type": "code",
   "execution_count": null,
   "metadata": {},
   "outputs": [],
   "source": [
    "st.()"
   ]
  },
  {
   "cell_type": "code",
   "execution_count": 36,
   "metadata": {},
   "outputs": [
    {
     "name": "stdout",
     "output_type": "stream",
     "text": [
      "Based on the provided context, here are some of the specifications of the Motorola Edge 50 Pro:\n",
      "\n",
      "* Display: 6.7-inch 1.5K super HD pOLED display, HDR10+, 10-bit, 144Hz refresh rate, 360Hz touch rate (gaming mode), 2000 nits peak brightness, Pantone validated for true colors, Screen-to-body ratio of 90.75%\n",
      "* Resolution: 2712 x 1220 pixels\n",
      "* Processor: Snapdragon 7 Gen 3 Mobile Platform with Octa Core processor\n",
      "* Operating System: Android 14\n",
      "* Storage: 256 GB\n",
      "* RAM: 12 GB\n",
      "* Rear Camera: 50MP with f/1.4 aperture, Quad Pixel Technology for 1.28um, Optical Image Stabilization (OIS), Super Resolution Zoom, Hybrid Zoom: 30X, Burst Shot, Timer, Assistive Grid, Leveler, Metering Mode, Watermark, Live Filters, Selfie Photo Mirror, Selfie Stick Support, RAW Photo Output, QR/Barcode Scanner, Quick Capture (Twist-Twist), 13 MP ultrawide + macro camera, 10 MP telephoto camera with OIS\n",
      "* Front Camera: 50MP with f/1.9 aperture, 0.64um Pixel Size, Quad Pixel Technology for 1.28um, Autofocus, Features: Portrait (W/ Group Selfie & Smart Adjustments), Photo Booth, Pro, Dual Capture, Spot Color, Artificial Intelligence (Photo Enhancement Engine, Auto Smile Capture, Gesture Capture, Google Photos Auto Enhance), Other Features (Burst Shot, Timer, Assistive Grid, Leveler, Metering Mode, Watermark, Live Filters, Selfie Photo Mirror, Selfie Stick Support, RAW Photo Output, HDR, Quick Capture (Twist-Twist))\n",
      "* Flash: Single LED Flash\n",
      "* HD Recording: Yes\n",
      "* Full HD Recording: Yes\n",
      "* Video Recording Resolution: Rear Camera: 4K UHD\n",
      "* Waterproofing: IP68\n",
      "* Charging: 125W TurboPower charging\n",
      "* SIM Type: Dual Sim (Hybrid Sim Slot)\n",
      "* Touchscreen: Yes\n",
      "* OTG Compatible: Yes\n",
      "* Quick Charging: Yes\n",
      "* Sound Enhancements: Dual Stereo Speakers, Tuning by Dolby Atmos, Spatial Sound by Motorola\n",
      "* SAR Value: Head: 1.08 W/kg (at 1g), Body: 1.08 W/kg (at 1g)\n",
      "* Model Number: PB1H0006IN\n",
      "* Model Name: Edge 50 Pro 5G\n",
      "* Color: Luxe Lavender\n",
      "* Other Features: Style Sync AI generative theming\n",
      "\n",
      "Please note that this information is based on the provided context and may not include all the features or specifications of the device.\n"
     ]
    }
   ],
   "source": [
    "\n",
    "response = retrieval_chain.invoke({\"input\": \"What is the Spec of Moto edge 50 pro?\"})\n",
    "print(response[\"answer\"])"
   ]
  },
  {
   "cell_type": "code",
   "execution_count": null,
   "metadata": {},
   "outputs": [],
   "source": [
    "iface = gr.Interface(\n",
    "    fn = fetch_response,\n",
    "    inputs = \"text\",\n",
    "    outputs = \"text\",\n",
    "    title = \"Groq Chatbot\",\n",
    "    description=\"Ask a question and get a response.\"\n",
    ")\n",
    "\n",
    "iface.launch()"
   ]
  },
  {
   "cell_type": "code",
   "execution_count": 4,
   "metadata": {},
   "outputs": [
    {
     "data": {
      "text/plain": [
       "False"
      ]
     },
     "execution_count": 4,
     "metadata": {},
     "output_type": "execute_result"
    }
   ],
   "source": [
    "st.Textbox"
   ]
  }
 ],
 "metadata": {
  "kernelspec": {
   "display_name": "venv",
   "language": "python",
   "name": "python3"
  },
  "language_info": {
   "codemirror_mode": {
    "name": "ipython",
    "version": 3
   },
   "file_extension": ".py",
   "mimetype": "text/x-python",
   "name": "python",
   "nbconvert_exporter": "python",
   "pygments_lexer": "ipython3",
   "version": "3.11.4"
  }
 },
 "nbformat": 4,
 "nbformat_minor": 2
}
